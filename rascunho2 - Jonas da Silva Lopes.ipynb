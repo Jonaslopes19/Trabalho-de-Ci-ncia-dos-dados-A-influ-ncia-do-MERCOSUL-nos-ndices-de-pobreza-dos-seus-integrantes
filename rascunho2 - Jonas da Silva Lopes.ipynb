{
 "cells": [
  {
   "cell_type": "markdown",
   "metadata": {},
   "source": [
    "# Projeto de ciência dos dados"
   ]
  },
  {
   "cell_type": "markdown",
   "metadata": {},
   "source": [
    "## Jonas da Silva Lopes - Turma \"A\""
   ]
  },
  {
   "cell_type": "markdown",
   "metadata": {},
   "source": [
    "Esse projeto será baseado na análise da possível existência de uma relação entre pobreza e a participação do país no MERCOSUL. Para isso será feito uma análise entre o histótorico de pobreza nos países participantes do MERCOSUL e países que não o fazem."
   ]
  },
  {
   "cell_type": "markdown",
   "metadata": {},
   "source": [
    "### Imports"
   ]
  },
  {
   "cell_type": "markdown",
   "metadata": {},
   "source": [
    "Import de bibliotecas que serão de suma importância na análise dos dados coletados"
   ]
  },
  {
   "cell_type": "code",
   "execution_count": 15,
   "metadata": {},
   "outputs": [],
   "source": [
    "%matplotlib inline\n",
    "import numpy as np\n",
    "import matplotlib.pyplot as plt\n",
    "import matplotlib\n",
    "matplotlib.style.use('ggplot')\n",
    "import os\n",
    "import pandas as pd"
   ]
  },
  {
   "cell_type": "code",
   "execution_count": 16,
   "metadata": {},
   "outputs": [],
   "source": [
    "dados_pobreza = pd.read_excel(r\"C:\\Users\\User\\Documents\\Facul\\Primeiro ano\\Segundo semestre\\Ciência dos dados\\Projeto 1\\Trabalho_de_C_dados\\Pobreza\\Indice_de_pobreza((%)população).xlsx\")"
   ]
  },
  {
   "cell_type": "markdown",
   "metadata": {},
   "source": [
    "### Selecionar os países para serem analisados, ou seja, separar os países sul americanos, e também setar os países como índice."
   ]
  },
  {
   "cell_type": "code",
   "execution_count": 17,
   "metadata": {},
   "outputs": [],
   "source": [
    "países_análise = dados_pobreza[(dados_pobreza.Pais == \"Brazil\") | (dados_pobreza.Pais == \"Argentina\") | (dados_pobreza.Pais == 'Uruguay') | (dados_pobreza.Pais == \"Paraguay\") | (dados_pobreza.Pais == \"Colombia\") | (dados_pobreza.Pais == \"Chile\") | (dados_pobreza.Pais == \"Suriname\") | (dados_pobreza.Pais == \"Ecuador\") | (dados_pobreza.Pais == \"Guyana\") | (dados_pobreza.Pais == \"French Guiana\") | (dados_pobreza.Pais == \"Peru\") | (dados_pobreza.Pais == \"Venezuela\")]"
   ]
  },
  {
   "cell_type": "markdown",
   "metadata": {},
   "source": [
    "## Separar os países que participam do MERCOSUL."
   ]
  },
  {
   "cell_type": "code",
   "execution_count": 18,
   "metadata": {
    "scrolled": true
   },
   "outputs": [],
   "source": [
    "paises_mercosul = países_análise[(países_análise.Pais == \"Brazil\") | (países_análise.Pais == \"Argentina\") | (países_análise.Pais == \"Uruguay\") | (países_análise.Pais == \"Paraguay\")]"
   ]
  },
  {
   "cell_type": "markdown",
   "metadata": {},
   "source": [
    "## Montar uma tabela com os paíse que não fazem parte do MERCOSUL."
   ]
  },
  {
   "cell_type": "code",
   "execution_count": 19,
   "metadata": {},
   "outputs": [
    {
     "name": "stderr",
     "output_type": "stream",
     "text": [
      "C:\\Users\\User\\Anaconda3\\Nova pasta\\lib\\site-packages\\ipykernel_launcher.py:1: UserWarning: Boolean Series key will be reindexed to match DataFrame index.\n",
      "  \"\"\"Entry point for launching an IPython kernel.\n"
     ]
    }
   ],
   "source": [
    "paises_out = países_análise[(países_análise.Pais == \"Colombia\") | (países_análise.Pais == \"Chile\") | (países_análise.Pais == \"Suriname\") | (países_análise.Pais == \"Ecuador\") | (países_análise.Pais == \"Guyana\") | (dados_pobreza.Pais == \"French Guiana\") | (dados_pobreza.Pais == \"Peru\") | (dados_pobreza.Pais == \"Venezuela\")]"
   ]
  },
  {
   "cell_type": "markdown",
   "metadata": {},
   "source": [
    "## Setar o nome dos países como indéx"
   ]
  },
  {
   "cell_type": "code",
   "execution_count": 20,
   "metadata": {},
   "outputs": [],
   "source": [
    "paises_merc_set = paises_mercosul.set_index(\"Pais\")\n",
    "paises_out_set = paises_out.set_index(\"Pais\")"
   ]
  },
  {
   "cell_type": "markdown",
   "metadata": {},
   "source": [
    "## Escolha de um período de tempo"
   ]
  },
  {
   "cell_type": "markdown",
   "metadata": {},
   "source": [
    "Deve-se escolher um período de tempo em que exista uma boa quantidade de dados para ser analisados. Além disso, deve-se levar em conta que o MERCOSUL começou em 1991, portanto deve-se analisar um pedaço de tempo anterior, a fim de perceber mudanças verdadeiras de comportamento"
   ]
  },
  {
   "cell_type": "code",
   "execution_count": 27,
   "metadata": {},
   "outputs": [
    {
     "data": {
      "text/html": [
       "<div>\n",
       "<style scoped>\n",
       "    .dataframe tbody tr th:only-of-type {\n",
       "        vertical-align: middle;\n",
       "    }\n",
       "\n",
       "    .dataframe tbody tr th {\n",
       "        vertical-align: top;\n",
       "    }\n",
       "\n",
       "    .dataframe thead th {\n",
       "        text-align: right;\n",
       "    }\n",
       "</style>\n",
       "<table border=\"1\" class=\"dataframe\">\n",
       "  <thead>\n",
       "    <tr style=\"text-align: right;\">\n",
       "      <th></th>\n",
       "      <th>1986</th>\n",
       "      <th>1987</th>\n",
       "      <th>1988</th>\n",
       "      <th>1989</th>\n",
       "      <th>1990</th>\n",
       "      <th>1991</th>\n",
       "      <th>1992</th>\n",
       "      <th>1993</th>\n",
       "      <th>1994</th>\n",
       "      <th>1995</th>\n",
       "      <th>1996</th>\n",
       "      <th>1997</th>\n",
       "      <th>1998</th>\n",
       "      <th>1999</th>\n",
       "      <th>2000</th>\n",
       "      <th>2001</th>\n",
       "      <th>2002</th>\n",
       "      <th>2003</th>\n",
       "      <th>2004</th>\n",
       "    </tr>\n",
       "    <tr>\n",
       "      <th>Pais</th>\n",
       "      <th></th>\n",
       "      <th></th>\n",
       "      <th></th>\n",
       "      <th></th>\n",
       "      <th></th>\n",
       "      <th></th>\n",
       "      <th></th>\n",
       "      <th></th>\n",
       "      <th></th>\n",
       "      <th></th>\n",
       "      <th></th>\n",
       "      <th></th>\n",
       "      <th></th>\n",
       "      <th></th>\n",
       "      <th></th>\n",
       "      <th></th>\n",
       "      <th></th>\n",
       "      <th></th>\n",
       "      <th></th>\n",
       "    </tr>\n",
       "  </thead>\n",
       "  <tbody>\n",
       "    <tr>\n",
       "      <th>Chile</th>\n",
       "      <td>NaN</td>\n",
       "      <td>18.75</td>\n",
       "      <td>NaN</td>\n",
       "      <td>NaN</td>\n",
       "      <td>13.97</td>\n",
       "      <td>NaN</td>\n",
       "      <td>9.25</td>\n",
       "      <td>NaN</td>\n",
       "      <td>8.91</td>\n",
       "      <td>NaN</td>\n",
       "      <td>6.52</td>\n",
       "      <td>NaN</td>\n",
       "      <td>6.15</td>\n",
       "      <td>NaN</td>\n",
       "      <td>5.60</td>\n",
       "      <td>NaN</td>\n",
       "      <td>NaN</td>\n",
       "      <td>4.94</td>\n",
       "      <td>NaN</td>\n",
       "    </tr>\n",
       "    <tr>\n",
       "      <th>Colombia</th>\n",
       "      <td>NaN</td>\n",
       "      <td>NaN</td>\n",
       "      <td>20.69</td>\n",
       "      <td>18.19</td>\n",
       "      <td>NaN</td>\n",
       "      <td>17.29</td>\n",
       "      <td>14.02</td>\n",
       "      <td>NaN</td>\n",
       "      <td>NaN</td>\n",
       "      <td>NaN</td>\n",
       "      <td>22.15</td>\n",
       "      <td>NaN</td>\n",
       "      <td>NaN</td>\n",
       "      <td>27.19</td>\n",
       "      <td>31.68</td>\n",
       "      <td>31.42</td>\n",
       "      <td>32.73</td>\n",
       "      <td>32.71</td>\n",
       "      <td>31.68</td>\n",
       "    </tr>\n",
       "    <tr>\n",
       "      <th>Ecuador</th>\n",
       "      <td>NaN</td>\n",
       "      <td>23.03</td>\n",
       "      <td>NaN</td>\n",
       "      <td>NaN</td>\n",
       "      <td>NaN</td>\n",
       "      <td>NaN</td>\n",
       "      <td>NaN</td>\n",
       "      <td>NaN</td>\n",
       "      <td>26.33</td>\n",
       "      <td>20.39</td>\n",
       "      <td>NaN</td>\n",
       "      <td>NaN</td>\n",
       "      <td>27.17</td>\n",
       "      <td>39.24</td>\n",
       "      <td>37.71</td>\n",
       "      <td>NaN</td>\n",
       "      <td>NaN</td>\n",
       "      <td>23.58</td>\n",
       "      <td>NaN</td>\n",
       "    </tr>\n",
       "    <tr>\n",
       "      <th>French Guiana</th>\n",
       "      <td>NaN</td>\n",
       "      <td>NaN</td>\n",
       "      <td>NaN</td>\n",
       "      <td>NaN</td>\n",
       "      <td>NaN</td>\n",
       "      <td>NaN</td>\n",
       "      <td>NaN</td>\n",
       "      <td>NaN</td>\n",
       "      <td>NaN</td>\n",
       "      <td>NaN</td>\n",
       "      <td>NaN</td>\n",
       "      <td>NaN</td>\n",
       "      <td>NaN</td>\n",
       "      <td>NaN</td>\n",
       "      <td>NaN</td>\n",
       "      <td>NaN</td>\n",
       "      <td>NaN</td>\n",
       "      <td>NaN</td>\n",
       "      <td>NaN</td>\n",
       "    </tr>\n",
       "    <tr>\n",
       "      <th>Guyana</th>\n",
       "      <td>NaN</td>\n",
       "      <td>NaN</td>\n",
       "      <td>NaN</td>\n",
       "      <td>NaN</td>\n",
       "      <td>NaN</td>\n",
       "      <td>NaN</td>\n",
       "      <td>NaN</td>\n",
       "      <td>17.08</td>\n",
       "      <td>NaN</td>\n",
       "      <td>NaN</td>\n",
       "      <td>NaN</td>\n",
       "      <td>NaN</td>\n",
       "      <td>18.02</td>\n",
       "      <td>NaN</td>\n",
       "      <td>NaN</td>\n",
       "      <td>NaN</td>\n",
       "      <td>NaN</td>\n",
       "      <td>NaN</td>\n",
       "      <td>NaN</td>\n",
       "    </tr>\n",
       "    <tr>\n",
       "      <th>Peru</th>\n",
       "      <td>27.06</td>\n",
       "      <td>NaN</td>\n",
       "      <td>NaN</td>\n",
       "      <td>NaN</td>\n",
       "      <td>NaN</td>\n",
       "      <td>NaN</td>\n",
       "      <td>NaN</td>\n",
       "      <td>NaN</td>\n",
       "      <td>28.44</td>\n",
       "      <td>NaN</td>\n",
       "      <td>NaN</td>\n",
       "      <td>10.37</td>\n",
       "      <td>26.29</td>\n",
       "      <td>28.01</td>\n",
       "      <td>24.09</td>\n",
       "      <td>27.62</td>\n",
       "      <td>24.16</td>\n",
       "      <td>22.10</td>\n",
       "      <td>18.92</td>\n",
       "    </tr>\n",
       "    <tr>\n",
       "      <th>Suriname</th>\n",
       "      <td>NaN</td>\n",
       "      <td>NaN</td>\n",
       "      <td>NaN</td>\n",
       "      <td>NaN</td>\n",
       "      <td>NaN</td>\n",
       "      <td>NaN</td>\n",
       "      <td>NaN</td>\n",
       "      <td>NaN</td>\n",
       "      <td>NaN</td>\n",
       "      <td>NaN</td>\n",
       "      <td>NaN</td>\n",
       "      <td>NaN</td>\n",
       "      <td>NaN</td>\n",
       "      <td>27.20</td>\n",
       "      <td>NaN</td>\n",
       "      <td>NaN</td>\n",
       "      <td>NaN</td>\n",
       "      <td>NaN</td>\n",
       "      <td>NaN</td>\n",
       "    </tr>\n",
       "    <tr>\n",
       "      <th>Venezuela</th>\n",
       "      <td>NaN</td>\n",
       "      <td>13.12</td>\n",
       "      <td>NaN</td>\n",
       "      <td>14.06</td>\n",
       "      <td>NaN</td>\n",
       "      <td>NaN</td>\n",
       "      <td>9.71</td>\n",
       "      <td>NaN</td>\n",
       "      <td>NaN</td>\n",
       "      <td>20.63</td>\n",
       "      <td>NaN</td>\n",
       "      <td>NaN</td>\n",
       "      <td>20.35</td>\n",
       "      <td>23.18</td>\n",
       "      <td>NaN</td>\n",
       "      <td>20.78</td>\n",
       "      <td>29.53</td>\n",
       "      <td>34.76</td>\n",
       "      <td>29.35</td>\n",
       "    </tr>\n",
       "  </tbody>\n",
       "</table>\n",
       "</div>"
      ],
      "text/plain": [
       "                1986   1987   1988   1989   1990   1991   1992   1993   1994  \\\n",
       "Pais                                                                           \n",
       "Chile            NaN  18.75    NaN    NaN  13.97    NaN   9.25    NaN   8.91   \n",
       "Colombia         NaN    NaN  20.69  18.19    NaN  17.29  14.02    NaN    NaN   \n",
       "Ecuador          NaN  23.03    NaN    NaN    NaN    NaN    NaN    NaN  26.33   \n",
       "French Guiana    NaN    NaN    NaN    NaN    NaN    NaN    NaN    NaN    NaN   \n",
       "Guyana           NaN    NaN    NaN    NaN    NaN    NaN    NaN  17.08    NaN   \n",
       "Peru           27.06    NaN    NaN    NaN    NaN    NaN    NaN    NaN  28.44   \n",
       "Suriname         NaN    NaN    NaN    NaN    NaN    NaN    NaN    NaN    NaN   \n",
       "Venezuela        NaN  13.12    NaN  14.06    NaN    NaN   9.71    NaN    NaN   \n",
       "\n",
       "                1995   1996   1997   1998   1999   2000   2001   2002   2003  \\\n",
       "Pais                                                                           \n",
       "Chile            NaN   6.52    NaN   6.15    NaN   5.60    NaN    NaN   4.94   \n",
       "Colombia         NaN  22.15    NaN    NaN  27.19  31.68  31.42  32.73  32.71   \n",
       "Ecuador        20.39    NaN    NaN  27.17  39.24  37.71    NaN    NaN  23.58   \n",
       "French Guiana    NaN    NaN    NaN    NaN    NaN    NaN    NaN    NaN    NaN   \n",
       "Guyana           NaN    NaN    NaN  18.02    NaN    NaN    NaN    NaN    NaN   \n",
       "Peru             NaN    NaN  10.37  26.29  28.01  24.09  27.62  24.16  22.10   \n",
       "Suriname         NaN    NaN    NaN    NaN  27.20    NaN    NaN    NaN    NaN   \n",
       "Venezuela      20.63    NaN    NaN  20.35  23.18    NaN  20.78  29.53  34.76   \n",
       "\n",
       "                2004  \n",
       "Pais                  \n",
       "Chile            NaN  \n",
       "Colombia       31.68  \n",
       "Ecuador          NaN  \n",
       "French Guiana    NaN  \n",
       "Guyana           NaN  \n",
       "Peru           18.92  \n",
       "Suriname         NaN  \n",
       "Venezuela      29.35  "
      ]
     },
     "execution_count": 27,
     "metadata": {},
     "output_type": "execute_result"
    }
   ],
   "source": [
    "tab_merc = paises_merc_set.iloc[:,8:27]\n",
    "tab_out = paises_out_set.iloc[:,8:27]\n",
    "tab_out"
   ]
  },
  {
   "cell_type": "code",
   "execution_count": 31,
   "metadata": {},
   "outputs": [
    {
     "data": {
      "image/png": "[encoded data removed]",
      "text/plain": [
       "<Figure size 432x288 with 1 Axes>"
      ]
     },
     "metadata": {},
     "output_type": "display_data"
    }
   ],
   "source": [
    "tempo = range(1986, 2005)\n",
    "porcent_poor = tab_merc.loc[\"Brazil\"]\n",
    "plt.plot(tempo, porcent_poor)\n",
    "plt.grid(True)\n",
    "plt.show()\n",
    "\n",
    "\n",
    "\n",
    "#tab_merc_validos = tab_merc.dropna()\n",
    "#tab_out_validos = tab_out.dropna()\n",
    "#tab_merc_validos\n",
    "#tab_out_validos"
   ]
  },
  {
   "cell_type": "markdown",
   "metadata": {},
   "source": [
    "## Primeira conclusão"
   ]
  },
  {
   "cell_type": "markdown",
   "metadata": {},
   "source": [
    "O Brasil pode ser um país em que o bloco teve grande influência da diminuição da pobreza, pois no ano após o início do MERCOSUL, o Brasi teve uma queda brusca em sua taxa de pobreza. Basta agora comprovar que o índice de desemprego diminuiu."
   ]
  },
  {
   "cell_type": "markdown",
   "metadata": {},
   "source": [
    "## verificar o gráfico dos outros participantes do MERCOSUL."
   ]
  },
  {
   "cell_type": "code",
   "execution_count": 35,
   "metadata": {},
   "outputs": [
    {
     "data": {
      "image/png": "[encoded data removed]",
      "text/plain": [
       "<Figure size 432x288 with 1 Axes>"
      ]
     },
     "metadata": {},
     "output_type": "display_data"
    }
   ],
   "source": [
    "porcent_poor_argentina = tab_merc.loc[\"Argentina\"]\n",
    "porcent_poor_paraguay = tab_merc.loc[\"Paraguay\"]\n",
    "porcent_poor_uruguai = tab_merc.loc[\"Uruguay\"]\n",
    "\n",
    "plt.plot(tempo, porcent_poor_argentina, 'b', label='Argentina')\n",
    "plt.plot(tempo, porcent_poor_paraguay, 'black', label='Paraguay')\n",
    "plt.plot(tempo, porcent_poor_uruguai, 'salmon', label='Uruguai')\n",
    "plt.plot(tempo, porcent_poor, 'g', label='Brasil')\n",
    "plt.legend()\n",
    "plt.grid(True)\n",
    "plt.show()"
   ]
  },
  {
   "cell_type": "markdown",
   "metadata": {},
   "source": [
    "A análise do gráfico acima permite perceber que após o início do mercosul, o único país que teve uma queda em seus índeices de pobreza foi o Brasil, sendo que Uruguai, Argentina e Paraguai tiveram aumentos consideraveis em suas taxas de populção pobre."
   ]
  },
  {
   "cell_type": "markdown",
   "metadata": {},
   "source": [
    "## Analisar os blocos que não fazem parte do MERCOSUL."
   ]
  },
  {
   "cell_type": "markdown",
   "metadata": {},
   "source": [
    "Apesar de o último gráfico não demonstrar uma boa influência da aliança sul americana, talvez os países que não fizeram parte do MERCOSUL sofreram ainda mais com pobreza. A fim de efetuar essa análise é necessário plotar um gráfico com o histórico do índice de pobreza desses países."
   ]
  },
  {
   "cell_type": "code",
   "execution_count": 39,
   "metadata": {},
   "outputs": [
    {
     "data": {
      "image/png": "[encoded data removed]",
      "text/plain": [
       "<Figure size 432x288 with 1 Axes>"
      ]
     },
     "metadata": {},
     "output_type": "display_data"
    }
   ],
   "source": [
    "porcent_poor_chile = tab_out.loc[\"Chile\"]\n",
    "porcent_poor_colombia = tab_out.loc[\"Colombia\"]\n",
    "porcent_poor_peru = tab_out.loc['Peru']\n",
    "porcent_poor_venezuela = tab_out.loc[\"Venezuela\"]\n",
    "\n",
    "plt.plot(tempo, porcent_poor_chile, 'black', label='Chile')\n",
    "plt.plot(tempo, porcent_poor_colombia, 'blue', label='Colombia')\n",
    "plt.plot(tempo, porcent_poor_peru, 'green', label='Peru')\n",
    "plt.plot(tempo, porcent_poor_venezuela, 'purple', label='Venezuela')\n",
    "plt.title('Evolução da pobreza em países que não estão no MERCOSUL')\n",
    "plt.legend()\n",
    "plt.grid(True)\n",
    "plt.show()\n"
   ]
  },
  {
   "cell_type": "markdown",
   "metadata": {},
   "source": [
    "### Devido a falta de dados a repeito dos índices de pobreza, acredita-se que seja melhor mudar a pergunta principal do projeto."
   ]
  }
 ],
 "metadata": {
  "kernelspec": {
   "display_name": "Python 3",
   "language": "python",
   "name": "python3"
  },
  "language_info": {
   "codemirror_mode": {
    "name": "ipython",
    "version": 3
   },
   "file_extension": ".py",
   "mimetype": "text/x-python",
   "name": "python",
   "nbconvert_exporter": "python",
   "pygments_lexer": "ipython3",
   "version": "3.7.1"
  }
 },
 "nbformat": 4,
 "nbformat_minor": 2
}
