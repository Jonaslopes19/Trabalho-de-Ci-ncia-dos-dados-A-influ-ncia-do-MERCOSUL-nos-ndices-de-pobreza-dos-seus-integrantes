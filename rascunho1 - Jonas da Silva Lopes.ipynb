{
 "cells": [
  {
   "cell_type": "markdown",
   "metadata": {},
   "source": [
    "# Projeto de ciência dos dados"
   ]
  },
  {
   "cell_type": "markdown",
   "metadata": {},
   "source": [
    "## Jonas da Silva Lopes - Turma \"A\""
   ]
  },
  {
   "cell_type": "markdown",
   "metadata": {},
   "source": [
    "Esse projeto será baseado na análise da possível existência de uma relação entre pobreza e a participação do país no MERCOSUL. Para isso será feito uma análise entre o histótorico de pobreza nos países participantes do MERCOSUL e países que não o fazem."
   ]
  },
  {
   "cell_type": "markdown",
   "metadata": {},
   "source": [
    "### Imports"
   ]
  },
  {
   "cell_type": "markdown",
   "metadata": {},
   "source": [
    "Import de bibliotecas que serão de suma importância na análise dos dados coletados"
   ]
  },
  {
   "cell_type": "code",
   "execution_count": 94,
   "metadata": {},
   "outputs": [],
   "source": [
    "%matplotlib inline\n",
    "import numpy as np\n",
    "import matplotlib.pyplot as plt\n",
    "import matplotlib\n",
    "matplotlib.style.use('ggplot')\n",
    "import os\n",
    "import pandas as pd"
   ]
  },
  {
   "cell_type": "code",
   "execution_count": 95,
   "metadata": {},
   "outputs": [],
   "source": [
    "dados_pobreza = pd.read_excel(r\"C:\\Users\\User\\Documents\\Facul\\Primeiro ano\\Segundo semestre\\Ciência dos dados\\Projeto 1\\Pobreza\\Indice_de_pobreza((%)população).xlsx\")"
   ]
  },
  {
   "cell_type": "markdown",
   "metadata": {},
   "source": [
    "### Selecionar os países para serem analisados, ou seja, separar os países sul americanos, e também setar os países como índice."
   ]
  },
  {
   "cell_type": "code",
   "execution_count": 96,
   "metadata": {},
   "outputs": [],
   "source": [
    "países_análise = dados_pobreza[(dados_pobreza.Pais == \"Brazil\") | (dados_pobreza.Pais == \"Argentina\") | (dados_pobreza.Pais == 'Uruguay') | (dados_pobreza.Pais == \"Paraguay\") | (dados_pobreza.Pais == \"Colombia\") | (dados_pobreza.Pais == \"Chile\") | (dados_pobreza.Pais == \"Suriname\") | (dados_pobreza.Pais == \"Ecuador\") | (dados_pobreza.Pais == \"Guyana\") | (dados_pobreza.Pais == \"French Guiana\") | (dados_pobreza.Pais == \"Peru\") | (dados_pobreza.Pais == \"Venezuela\")]"
   ]
  },
  {
   "cell_type": "markdown",
   "metadata": {},
   "source": [
    "## Separar os países que participam do MERCOSUL."
   ]
  },
  {
   "cell_type": "code",
   "execution_count": 97,
   "metadata": {
    "scrolled": true
   },
   "outputs": [],
   "source": [
    "paises_mercosul = países_análise[(países_análise.Pais == \"Brazil\") | (países_análise.Pais == \"Argentina\") | (países_análise.Pais == \"Uruguay\") | (países_análise.Pais == \"Paraguay\")]"
   ]
  },
  {
   "cell_type": "markdown",
   "metadata": {},
   "source": [
    "## Montar uma tabela com os paíse que não fazem parte do MERCOSUL."
   ]
  },
  {
   "cell_type": "code",
   "execution_count": 98,
   "metadata": {},
   "outputs": [
    {
     "name": "stderr",
     "output_type": "stream",
     "text": [
      "C:\\Users\\User\\Anaconda3\\Nova pasta\\lib\\site-packages\\ipykernel_launcher.py:1: UserWarning: Boolean Series key will be reindexed to match DataFrame index.\n",
      "  \"\"\"Entry point for launching an IPython kernel.\n"
     ]
    }
   ],
   "source": [
    "paises_out = países_análise[(países_análise.Pais == \"Colombia\") | (países_análise.Pais == \"Chile\") | (países_análise.Pais == \"Suriname\") | (países_análise.Pais == \"Ecuador\") | (países_análise.Pais == \"Guyana\") | (dados_pobreza.Pais == \"French Guiana\") | (dados_pobreza.Pais == \"Peru\") | (dados_pobreza.Pais == \"Venezuela\")]"
   ]
  },
  {
   "cell_type": "markdown",
   "metadata": {},
   "source": [
    "## Setar o nome dos países como indéx"
   ]
  },
  {
   "cell_type": "code",
   "execution_count": 99,
   "metadata": {},
   "outputs": [],
   "source": [
    "paises_merc_set = paises_mercosul.set_index(\"Pais\")\n",
    "paises_out_set = paises_out.set_index(\"Pais\")"
   ]
  },
  {
   "cell_type": "markdown",
   "metadata": {},
   "source": [
    "## Escolha de um período de tempo"
   ]
  },
  {
   "cell_type": "markdown",
   "metadata": {},
   "source": [
    "Deve-se escolher um período de tempo em que exista uma boa quantidade de dados para ser analisados. Além disso, deve-se levar em conta que o MERCOSUL começou em 1991, portanto deve-se analisar um pedaço de tempo anterior, a fim de perceber mudanças verdadeiras de comportamento"
   ]
  },
  {
   "cell_type": "code",
   "execution_count": 100,
   "metadata": {},
   "outputs": [],
   "source": [
    "tab_merc = paises_merc_set.iloc[:,8:27]\n",
    "tab_out = paises_out_set.iloc[:,8:27]"
   ]
  },
  {
   "cell_type": "code",
   "execution_count": 102,
   "metadata": {},
   "outputs": [
    {
     "data": {
      "image/png": "[encoded data removed]",
      "text/plain": [
       "<Figure size 432x288 with 1 Axes>"
      ]
     },
     "metadata": {},
     "output_type": "display_data"
    }
   ],
   "source": [
    "tempo = range(1986, 2005)\n",
    "porcent_poor = tab_merc.loc[\"Brazil\",:]\n",
    "plt.plot(tempo, porcent_poor)\n",
    "plt.grid(True)\n",
    "plt.show()\n",
    "\n",
    "\n",
    "\n",
    "#tab_merc_validos = tab_merc.dropna()\n",
    "#tab_out_validos = tab_out.dropna()\n",
    "#tab_merc_validos\n",
    "#tab_out_validos"
   ]
  },
  {
   "cell_type": "markdown",
   "metadata": {},
   "source": [
    "## Primeira conclusão"
   ]
  },
  {
   "cell_type": "markdown",
   "metadata": {},
   "source": [
    "O Brasil pode ser um país em que o bloco teve grande influência da diminuição da pobreza, pois no ano após o início do MERCOSUL, o Brasi teve uma queda brusca em sua taxa de pobreza. Basta agora comprovar que o índice de desemprego diminuiu."
   ]
  }
 ],
 "metadata": {
  "kernelspec": {
   "display_name": "Python 3",
   "language": "python",
   "name": "python3"
  },
  "language_info": {
   "codemirror_mode": {
    "name": "ipython",
    "version": 3
   },
   "file_extension": ".py",
   "mimetype": "text/x-python",
   "name": "python",
   "nbconvert_exporter": "python",
   "pygments_lexer": "ipython3",
   "version": "3.7.1"
  }
 },
 "nbformat": 4,
 "nbformat_minor": 2
}
