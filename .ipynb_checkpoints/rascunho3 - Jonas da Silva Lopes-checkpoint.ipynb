{
 "cells": [
  {
   "cell_type": "markdown",
   "metadata": {},
   "source": [
    "# Projeto_de_ciência_dos_dados-Organizações_Internacionais"
   ]
  },
  {
   "cell_type": "markdown",
   "metadata": {},
   "source": [
    "## Jonas da Silva Lopes"
   ]
  },
  {
   "cell_type": "markdown",
   "metadata": {},
   "source": [
    "## O tema principal do projeto:"
   ]
  },
  {
   "cell_type": "markdown",
   "metadata": {},
   "source": [
    "Os países da União Europeia tendem a possuir mais incideência de suicídios aos países europeuss que não participam?"
   ]
  },
  {
   "cell_type": "markdown",
   "metadata": {},
   "source": [
    "## Imports"
   ]
  },
  {
   "cell_type": "code",
   "execution_count": 13,
   "metadata": {},
   "outputs": [],
   "source": [
    "%matplotlib inline\n",
    "import numpy as np\n",
    "import matplotlib.pyplot as plt\n",
    "import matplotlib\n",
    "matplotlib.style.use('ggplot')\n",
    "import os\n",
    "import pandas as pd"
   ]
  },
  {
   "cell_type": "markdown",
   "metadata": {},
   "source": [
    "## Importando os dados que serão utilizados"
   ]
  },
  {
   "cell_type": "code",
   "execution_count": 18,
   "metadata": {},
   "outputs": [],
   "source": [
    "suicidio_total = pd.read_excel(r\"C:\\Users\\User\\Documents\\Facul\\Primeiro ano\\Segundo semestre\\Ciência dos dados\\Projeto 1\\Trabalho_de_C_dados\\Taxas_de_sucidio\\total_suicidios.xlsx\")\n",
    "suicidio_porcemm = pd.read_excel(r'C:\\Users\\User\\Documents\\Facul\\Primeiro ano\\Segundo semestre\\Ciência dos dados\\Projeto 1\\Trabalho_de_C_dados\\Taxas_de_sucidio\\suicidio(por100000).xlsx')"
   ]
  },
  {
   "cell_type": "markdown",
   "metadata": {},
   "source": [
    "## Separar os países que pertencem a União Europeia"
   ]
  },
  {
   "cell_type": "markdown",
   "metadata": {},
   "source": [
    "Neste projeto será utilizado os países mais influentes dessa organização"
   ]
  },
  {
   "cell_type": "code",
   "execution_count": 30,
   "metadata": {},
   "outputs": [],
   "source": [
    "pais_uniao_total = suicidio_total[(suicidio_total.pais=='United Kingdom') | (suicidio_total.pais=='France') | (suicidio_total.pais=='Germany') | (suicidio_total.pais=='Italy') | (suicidio_total.pais=='Portugal') | (suicidio_total.pais=='Spain') | (suicidio_total.pais=='Sweden') | (suicidio_total.pais=='Denmark')]\n",
    "pais_uniao_porcemm = suicidio_porcemm[(suicidio_porcemm.pais=='United Kingdom') | (suicidio_porcemm.pais=='France') | (suicidio_porcemm.pais=='Germany') | (suicidio_porcemm.pais=='Italy') | (suicidio_porcemm.pais=='Portugal') | (suicidio_porcemm.pais=='Spain') | (suicidio_porcemm.pais=='Sweden') | (suicidio_porcemm.pais=='Denmark')]"
   ]
  },
  {
   "cell_type": "markdown",
   "metadata": {},
   "source": [
    "## Separar os países que não fazem parte da União Europeia."
   ]
  },
  {
   "cell_type": "code",
   "execution_count": 29,
   "metadata": {},
   "outputs": [],
   "source": [
    "pais_out_total = suicidio_total[(suicidio_total.pais=='Russia') | (suicidio_total.pais=='Monaco') | (suicidio_total.pais=='Switzerland') | (suicidio_total.pais=='Ukraine') | (suicidio_total.pais=='Armenia') | (suicidio_total.pais=='Belarus') | (suicidio_total.pais=='Serbia') | (suicidio_total.pais=='Norway')]\n",
    "pais_out_porcemm = suicidio_porcemm[(suicidio_porcemm.pais=='Russia') | (suicidio_porcemm.pais=='Monaco') | (suicidio_porcemm.pais=='Switzerland') | (suicidio_porcemm.pais=='Ukraine') | (suicidio_porcemm.pais=='Armenia') | (suicidio_porcemm.pais=='Belarus') | (suicidio_porcemm.pais=='Serbia') | (suicidio_porcemm.pais=='Norway')]"
   ]
  },
  {
   "cell_type": "markdown",
   "metadata": {},
   "source": [
    "## Setar o índice como sendo o nome dos países"
   ]
  },
  {
   "cell_type": "markdown",
   "metadata": {},
   "source": [
    "Esse processo exclui informações não necessárias, além de facilitar a visualização dos dados"
   ]
  },
  {
   "cell_type": "code",
   "execution_count": 32,
   "metadata": {},
   "outputs": [],
   "source": [
    "uniao_total_set = pais_uniao_total.set_index('pais')\n",
    "uniao_porcemm_set = pais_uniao_porcemm.set_index('pais')\n",
    "out_total_set = pais_out_total.set_index('pais')\n",
    "out_porcemm_set = pais_out_porcemm.set_index('pais')"
   ]
  },
  {
   "cell_type": "code",
   "execution_count": 35,
   "metadata": {},
   "outputs": [
    {
     "data": {
      "text/html": [
       "<div>\n",
       "<style scoped>\n",
       "    .dataframe tbody tr th:only-of-type {\n",
       "        vertical-align: middle;\n",
       "    }\n",
       "\n",
       "    .dataframe tbody tr th {\n",
       "        vertical-align: top;\n",
       "    }\n",
       "\n",
       "    .dataframe thead th {\n",
       "        text-align: right;\n",
       "    }\n",
       "</style>\n",
       "<table border=\"1\" class=\"dataframe\">\n",
       "  <thead>\n",
       "    <tr style=\"text-align: right;\">\n",
       "      <th></th>\n",
       "      <th>2002</th>\n",
       "      <th>2004</th>\n",
       "    </tr>\n",
       "    <tr>\n",
       "      <th>pais</th>\n",
       "      <th></th>\n",
       "      <th></th>\n",
       "    </tr>\n",
       "  </thead>\n",
       "  <tbody>\n",
       "    <tr>\n",
       "      <th>Armenia</th>\n",
       "      <td>103.0</td>\n",
       "      <td>121.0</td>\n",
       "    </tr>\n",
       "    <tr>\n",
       "      <th>Belarus</th>\n",
       "      <td>3796.0</td>\n",
       "      <td>3535.0</td>\n",
       "    </tr>\n",
       "    <tr>\n",
       "      <th>Monaco</th>\n",
       "      <td>5.0</td>\n",
       "      <td>4.0</td>\n",
       "    </tr>\n",
       "    <tr>\n",
       "      <th>Norway</th>\n",
       "      <td>512.0</td>\n",
       "      <td>534.0</td>\n",
       "    </tr>\n",
       "    <tr>\n",
       "      <th>Russia</th>\n",
       "      <td>59015.0</td>\n",
       "      <td>52841.0</td>\n",
       "    </tr>\n",
       "    <tr>\n",
       "      <th>Serbia</th>\n",
       "      <td>NaN</td>\n",
       "      <td>NaN</td>\n",
       "    </tr>\n",
       "    <tr>\n",
       "      <th>Switzerland</th>\n",
       "      <td>1284.0</td>\n",
       "      <td>1333.0</td>\n",
       "    </tr>\n",
       "    <tr>\n",
       "      <th>Ukraine</th>\n",
       "      <td>17520.0</td>\n",
       "      <td>12713.0</td>\n",
       "    </tr>\n",
       "  </tbody>\n",
       "</table>\n",
       "</div>"
      ],
      "text/plain": [
       "                2002     2004\n",
       "pais                         \n",
       "Armenia        103.0    121.0\n",
       "Belarus       3796.0   3535.0\n",
       "Monaco           5.0      4.0\n",
       "Norway         512.0    534.0\n",
       "Russia       59015.0  52841.0\n",
       "Serbia           NaN      NaN\n",
       "Switzerland   1284.0   1333.0\n",
       "Ukraine      17520.0  12713.0"
      ]
     },
     "execution_count": 35,
     "metadata": {},
     "output_type": "execute_result"
    }
   ],
   "source": [
    "out_total_set"
   ]
  },
  {
   "cell_type": "code",
   "execution_count": null,
   "metadata": {},
   "outputs": [],
   "source": []
  }
 ],
 "metadata": {
  "kernelspec": {
   "display_name": "Python 3",
   "language": "python",
   "name": "python3"
  },
  "language_info": {
   "codemirror_mode": {
    "name": "ipython",
    "version": 3
   },
   "file_extension": ".py",
   "mimetype": "text/x-python",
   "name": "python",
   "nbconvert_exporter": "python",
   "pygments_lexer": "ipython3",
   "version": "3.7.1"
  }
 },
 "nbformat": 4,
 "nbformat_minor": 2
}
