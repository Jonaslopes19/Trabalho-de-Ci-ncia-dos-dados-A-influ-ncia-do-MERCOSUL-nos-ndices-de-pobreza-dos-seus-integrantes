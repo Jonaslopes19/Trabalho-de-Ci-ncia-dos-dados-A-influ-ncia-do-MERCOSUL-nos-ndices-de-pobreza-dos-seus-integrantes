{
 "cells": [
  {
   "cell_type": "markdown",
   "metadata": {},
   "source": [
    "# Projeto_de_ciência_dos_dados-Organizações_Internacionais"
   ]
  },
  {
   "cell_type": "markdown",
   "metadata": {},
   "source": [
    "## Jonas da Silva Lopes - Turma \"A\""
   ]
  },
  {
   "cell_type": "markdown",
   "metadata": {},
   "source": [
    "## Git hub"
   ]
  },
  {
   "cell_type": "markdown",
   "metadata": {},
   "source": [
    "User: JonasLopes19   \n",
    "Repositório: Trabalho_de_C_Dados  \n",
    "Arquivo: RASCUNHO4 - ciência dos dados - Jonas da Silva Lopes.ipynb"
   ]
  },
  {
   "cell_type": "markdown",
   "metadata": {},
   "source": [
    "## Pergunta a ser trabalhada:"
   ]
  },
  {
   "cell_type": "markdown",
   "metadata": {},
   "source": [
    "Os países integrantes do G7 tendem a possuir uma maior taxa de suicídio, em relaçãoa a países do que possuem menores índices de desenvolvimento econômico?"
   ]
  },
  {
   "cell_type": "markdown",
   "metadata": {},
   "source": [
    "## Mecanismo"
   ]
  },
  {
   "cell_type": "markdown",
   "metadata": {},
   "source": [
    "Os países que são mais desenvolvidos, como no caso dos países que formam o G8, podem tender a exigirem demandas cada altas de sucesso pessoal, seja: profissional, interpessoal, acadêmico, financeiro, entre outros. Essa coerção em uma nação pode criar uma psicológica nas pessoas, o que as faz pensar que seu único objetivo de vida seja alcançar o sucesso nessas áreas da vida, assim por muitas vezes pessoas que \"falham\" com suas metas, ou pensam que essas são inalcançáveis tiram suas próprias vidas, tendo em vista que seus únicos objetivos na vida não podem ser alcançados. Logo, pode-se afirmar que o desenvolvimento dos países da União Europeia aumenta a incidência de suicídios neles devido a uma grande pressão social promovida pela sociedade."
   ]
  },
  {
   "cell_type": "markdown",
   "metadata": {},
   "source": [
    "## Imports"
   ]
  },
  {
   "cell_type": "code",
   "execution_count": 110,
   "metadata": {},
   "outputs": [],
   "source": [
    "%matplotlib inline\n",
    "import numpy as np\n",
    "import matplotlib.pyplot as plt\n",
    "import matplotlib\n",
    "matplotlib.style.use('ggplot')\n",
    "import os\n",
    "import pandas as pd"
   ]
  },
  {
   "cell_type": "markdown",
   "metadata": {},
   "source": [
    "## Importando os dados que serão utilizados"
   ]
  },
  {
   "cell_type": "code",
   "execution_count": 111,
   "metadata": {},
   "outputs": [],
   "source": [
    "suicidio_porcemm = pd.read_excel(r'C:\\Users\\User\\Documents\\Facul\\Primeiro ano\\Segundo semestre\\Ciência dos dados\\Projeto 1\\Trabalho_de_C_dados\\Taxas_de_sucidio\\suicidio(por100000).xlsx')\n",
    "pib_capita = pd.read_excel(r'C:\\Users\\User\\Documents\\Facul\\Primeiro ano\\Segundo semestre\\Ciência dos dados\\Projeto 1\\Trabalho_de_C_dados\\Pibs\\pib_capita.xlsx')"
   ]
  },
  {
   "cell_type": "markdown",
   "metadata": {},
   "source": [
    "## Montar uma lista com países do G8 junto aos que não estão e listas com ambos separados"
   ]
  },
  {
   "cell_type": "markdown",
   "metadata": {},
   "source": [
    "Vale ressaltar que para a escolha dos países também foi levado em conta a sua quantidade de dados disponíveis"
   ]
  },
  {
   "cell_type": "code",
   "execution_count": 112,
   "metadata": {},
   "outputs": [],
   "source": [
    "pibt = pib_capita[(pib_capita.pais=='Canada') | \n",
    "                                    (pib_capita.pais=='France') | \n",
    "                                    (pib_capita.pais=='Germany') | \n",
    "                                    (pib_capita.pais=='Italy') | \n",
    "                                    (pib_capita.pais=='Japan') |\n",
    "                                    (pib_capita.pais=='United Kingdom') | \n",
    "                                    (pib_capita.pais=='United States') | \n",
    "                                    (pib_capita.pais=='Norway') | \n",
    "                                    (pib_capita.pais=='Australia') | \n",
    "                                    (pib_capita.pais=='Denmark') | \n",
    "                                    (pib_capita.pais=='Sweden') | \n",
    "                                    (pib_capita.pais=='Chile') | \n",
    "                                    (pib_capita.pais=='Argentina') | \n",
    "                                    (pib_capita.pais=='Greece') | \n",
    "                                    (pib_capita.pais=='Mexico') |\n",
    "                                    (pib_capita.pais=='Uzbekistan') |\n",
    "                                    (pib_capita.pais=='Kuwait') |\n",
    "                                    (pib_capita.pais=='Costa Rica')]\n",
    "\n",
    "\n",
    "suicidio_cem = suicidio_porcemm[(suicidio_porcemm.pais=='Canada') | \n",
    "                                    (suicidio_porcemm.pais=='France') | \n",
    "                                    (suicidio_porcemm.pais=='Germany') | \n",
    "                                    (suicidio_porcemm.pais=='Italy') | \n",
    "                                    (suicidio_porcemm.pais=='Japan') |\n",
    "                                    (suicidio_porcemm.pais=='United Kingdom') | \n",
    "                                    (suicidio_porcemm.pais=='United States') | \n",
    "                                    (suicidio_porcemm.pais=='Norway') | \n",
    "                                    (suicidio_porcemm.pais=='Australia') | \n",
    "                                    (suicidio_porcemm.pais=='Denmark') | \n",
    "                                    (suicidio_porcemm.pais=='Sweden') | \n",
    "                                    (suicidio_porcemm.pais=='Chile') | \n",
    "                                    (suicidio_porcemm.pais=='Argentina') | \n",
    "                                    (suicidio_porcemm.pais=='Greece') | \n",
    "                                    (suicidio_porcemm.pais=='Mexico') |\n",
    "                                    (suicidio_porcemm.pais=='Uzbekistan') |\n",
    "                                    (suicidio_porcemm.pais=='Kuwait') |\n",
    "                                    (suicidio_porcemm.pais=='Costa Rica')]\n",
    "\n",
    "\n",
    "\n",
    "\n",
    "\n",
    "\n",
    "pais_pibt_g7 = pib_capita[(pib_capita.pais=='Canada') | \n",
    "                                    (pib_capita.pais=='France') | \n",
    "                                    (pib_capita.pais=='Germany') | \n",
    "                                    (pib_capita.pais=='Italy') | \n",
    "                                    (pib_capita.pais=='Japan') |  \n",
    "                                    (pib_capita.pais=='United Kingdom') | \n",
    "                                    (pib_capita.pais=='United States')]\n",
    "\n",
    "\n",
    "pais_pibt_fora = pib_capita[(pib_capita.pais=='Norway') | \n",
    "                                    (pib_capita.pais=='Australia') | \n",
    "                                    (pib_capita.pais=='Denmark') | \n",
    "                                    (pib_capita.pais=='Sweden') | \n",
    "                                    (pib_capita.pais=='Chile') | \n",
    "                                    (pib_capita.pais=='Argentina') | \n",
    "                                    (pib_capita.pais=='Greece') | \n",
    "                                    (pib_capita.pais=='Mexico') |\n",
    "                                   (pib_capita.pais=='Uzbekistan') |\n",
    "                                   (pib_capita.pais=='Kuwait') |\n",
    "                                   (pib_capita.pais=='Costa Rica')]\n",
    "\n",
    "\n",
    "suicidio_g7 = suicidio_porcemm[(suicidio_porcemm.pais=='Canada') | \n",
    "                                    (suicidio_porcemm.pais=='France') | \n",
    "                                    (suicidio_porcemm.pais=='Germany') | \n",
    "                                    (suicidio_porcemm.pais=='Italy') | \n",
    "                                    (suicidio_porcemm.pais=='Japan') | \n",
    "                                    (suicidio_porcemm.pais=='United Kingdom') | \n",
    "                                    (suicidio_porcemm.pais=='United States')]\n",
    "\n",
    "\n",
    "suicidio_fora = suicidio_porcemm[(suicidio_porcemm.pais=='Norway') | \n",
    "                                    (suicidio_porcemm.pais=='Australia') | \n",
    "                                    (suicidio_porcemm.pais=='Denmark') | \n",
    "                                    (suicidio_porcemm.pais=='Sweden') | \n",
    "                                    (suicidio_porcemm.pais=='Chile') | \n",
    "                                    (suicidio_porcemm.pais=='Argentina') | \n",
    "                                    (suicidio_porcemm.pais=='Greece') | \n",
    "                                    (suicidio_porcemm.pais=='Mexico') |\n",
    "                                   (suicidio_porcemm.pais=='Uzbekistan') |\n",
    "                                   (suicidio_porcemm.pais=='Kuwait') |\n",
    "                                   (suicidio_porcemm.pais=='Costa Rica')]"
   ]
  },
  {
   "cell_type": "markdown",
   "metadata": {},
   "source": [
    "## Setar os países como Índice"
   ]
  },
  {
   "cell_type": "code",
   "execution_count": 113,
   "metadata": {},
   "outputs": [],
   "source": [
    "pib = pibt.set_index(\"pais\")\n",
    "suicidio = suicidio_cem.set_index('pais')\n",
    "suig7 = suicidio_g7.set_index(\"pais\")\n",
    "sui_fora = suicidio_fora.set_index(\"pais\")\n",
    "pibtg7 = pais_pibt_g7.set_index('pais')\n",
    "pibt_fora = pais_pibt_fora.set_index('pais')"
   ]
  },
  {
   "cell_type": "markdown",
   "metadata": {},
   "source": [
    "## Selecionar as colunas que serão analisadas"
   ]
  },
  {
   "cell_type": "markdown",
   "metadata": {},
   "source": [
    "As colunas são representações dos anos a que os dados pertencem, portanto foram escolhidos anos mais recentes e que possuíam uma maior amostragem de dados, para que assim pudesse ser possível a análise."
   ]
  },
  {
   "cell_type": "code",
   "execution_count": 114,
   "metadata": {},
   "outputs": [],
   "source": [
    "colunas = [0]*4\n",
    "k=1998\n",
    "i=0\n",
    "for ano in colunas:\n",
    "    colunas[i]=k\n",
    "    k+=2\n",
    "    i+=1\n",
    "\n",
    "\n",
    "pib1 = pib.loc[:,colunas]    \n",
    "suicidio1 = suicidio.loc[:,colunas]\n",
    "pibtg7_1 = pibtg7.loc[:, colunas]\n",
    "suig7_1 = suig7.loc[:, colunas]\n",
    "pibt_fora_1 = pibt_fora.loc[:,colunas]\n",
    "sui_fora_1 = sui_fora.loc[:,colunas]"
   ]
  },
  {
   "cell_type": "markdown",
   "metadata": {},
   "source": [
    "## Renomeação das colunas"
   ]
  },
  {
   "cell_type": "markdown",
   "metadata": {},
   "source": [
    "A renomeação ajudará na manipulação dos dados das colunas"
   ]
  },
  {
   "cell_type": "code",
   "execution_count": 115,
   "metadata": {},
   "outputs": [],
   "source": [
    "pib1 = pib1.rename(columns={1990: 'ano1990', 1992: 'ano1992', 1994: 'ano1994', 1996: 'ano1996', 1998:'ano1998', 2000:'ano2000', 2002:'ano2002', 2004:'ano2004'})\n",
    "suicidio1 = suicidio1.rename(columns={1990: 'ano1990', 1992: 'ano1992', 1994: 'ano1994', 1996: 'ano1996', 1998:'ano1998', 2000:'ano2000', 2002:'ano2002', 2004:'ano2004'})\n",
    "suig7_1 = suig7_1.rename(columns={1990: 'ano1990', 1992: 'ano1992', 1994: 'ano1994', 1996: 'ano1996', 1998:'ano1998', 2000:'ano2000', 2002:'ano2002', 2004:'ano2004'})\n",
    "sui_fora_1 = sui_fora_1.rename(columns={1990: 'ano1990', 1992: 'ano1992', 1994: 'ano1994', 1996: 'ano1996', 1998:'ano1998', 2000:'ano2000', 2002:'ano2002', 2004:'ano2004'})\n",
    "pibt_g7_1 = pibtg7_1.rename(columns={1990: 'ano1990', 1992: 'ano1992', 1994: 'ano1994', 1996: 'ano1996', 1998:'ano1998', 2000:'ano2000', 2002:'ano2002', 2004:'ano2004'})\n",
    "pibt_fora_1 = pibt_fora_1.rename(columns={1990: 'ano1990', 1992: 'ano1992', 1994: 'ano1994', 1996: 'ano1996', 1998:'ano1998', 2000:'ano2000', 2002:'ano2002', 2004:'ano2004'})\n"
   ]
  },
  {
   "cell_type": "markdown",
   "metadata": {},
   "source": [
    "## Limpa de dados não existentes"
   ]
  },
  {
   "cell_type": "code",
   "execution_count": 116,
   "metadata": {},
   "outputs": [],
   "source": [
    "suicidio2 = suicidio1.dropna()#sahpe: 19, 6\n",
    "pib2 = pib1.dropna()#shape: 19, 6\n",
    "\n",
    "\n",
    "pibt_limpg7 = pibt_g7_1.dropna() #shape: 8, 6\n",
    "pibt_limpfora = pibt_fora_1.dropna() #shape: 11, 6\n",
    "\n",
    "\n",
    "sui_limpg7 = suig7_1.dropna()#shape: 8, 6\n",
    "sui_limpfora = sui_fora_1.dropna() # shape: 11, 6"
   ]
  },
  {
   "cell_type": "markdown",
   "metadata": {},
   "source": [
    "## Joins"
   ]
  },
  {
   "cell_type": "code",
   "execution_count": 117,
   "metadata": {},
   "outputs": [],
   "source": [
    "dados_gerais = suicidio2.join(pib2, how='outer', lsuffix='Suicídios', rsuffix='PIB')\n",
    "dados_gerais_g7 = sui_limpg7.join(pibt_limpg8, how='outer', lsuffix='Suicídios', rsuffix='PIB')\n",
    "dados_gerais_forag7 = sui_limpfora.join(pibt_limpfora, how='outer', lsuffix='Suicídios', rsuffix='PIB')"
   ]
  },
  {
   "cell_type": "markdown",
   "metadata": {},
   "source": [
    "## Comparando o Pib de um país e seu Indice de suícidios"
   ]
  },
  {
   "cell_type": "code",
   "execution_count": 118,
   "metadata": {},
   "outputs": [
    {
     "data": {
      "image/png": "[encoded data removed]",
      "text/plain": [
       "<Figure size 432x288 with 1 Axes>"
      ]
     },
     "metadata": {},
     "output_type": "display_data"
    },
    {
     "data": {
      "image/png": "[encoded data removed]",
      "text/plain": [
       "<Figure size 432x288 with 1 Axes>"
      ]
     },
     "metadata": {},
     "output_type": "display_data"
    },
    {
     "data": {
      "image/png": "[encoded data removed]",
      "text/plain": [
       "<Figure size 432x288 with 1 Axes>"
      ]
     },
     "metadata": {},
     "output_type": "display_data"
    }
   ],
   "source": [
    "plt.plot(pibt_limpg7.ano1998, sui_limpg7.ano1998, '.b', label='G7')\n",
    "plt.plot(pibt_limpfora.ano1998, sui_limpfora.ano1998, '.r', label='Não pertencem ao G7')\n",
    "plt.title('Gráfico de dispersão, PIB X SUICÍDIO: 1998')\n",
    "plt.xlabel('PIB per capita')\n",
    "plt.ylabel('Suicídios por cem mil pessoas')\n",
    "plt.legend()\n",
    "plt.grid(True)\n",
    "plt.show()\n",
    "\n",
    "# 2000\n",
    "plt.plot(pibt_limpg7.ano2000, sui_limpg7.ano2000, '.b', label='G7')\n",
    "plt.plot(pibt_limpfora.ano2000, sui_limpfora.ano2000, '.r', label='Não pertencem ao G7')\n",
    "plt.title('Gráfico de dispersão, PIB X SUICÍDIO: 2000')\n",
    "plt.xlabel('PIB per capita')\n",
    "plt.ylabel('Suicídios por cem mil pessoas')\n",
    "plt.legend()\n",
    "plt.grid(True)\n",
    "plt.show()\n",
    "\n",
    "#2002\n",
    "plt.plot(pibt_limpg7.ano2002, sui_limpg7.ano2002, '.b', label='G7')\n",
    "plt.plot(pibt_limpfora.ano2002, sui_limpfora.ano2002, '.r', label='Não pertencem ao G7')\n",
    "plt.title('Gráfico de dispersão, PIB X SUICÍDIO: 2002')\n",
    "plt.xlabel('PIB per capita')\n",
    "plt.ylabel('Suicídios por cem mil pessoas')\n",
    "plt.legend()\n",
    "plt.grid(True)\n",
    "plt.show()\n"
   ]
  },
  {
   "cell_type": "markdown",
   "metadata": {},
   "source": [
    "Com esses gráficos ainda nãoé possível afirmar que países com melhores índices econômicos possuem maiiores taxas de suícidio, apesar de haver algumas evidências"
   ]
  },
  {
   "cell_type": "markdown",
   "metadata": {},
   "source": [
    "## Boxplot"
   ]
  },
  {
   "cell_type": "markdown",
   "metadata": {},
   "source": [
    "a fim de fazer uma comparação por boxplot, faz-se necessário criar uma coluna para categorizar se um país faz ou não parte do G8"
   ]
  },
  {
   "cell_type": "code",
   "execution_count": 119,
   "metadata": {},
   "outputs": [],
   "source": [
    "dados_gerais.loc[:,'G7'] = 'NÃO'"
   ]
  },
  {
   "cell_type": "code",
   "execution_count": 120,
   "metadata": {},
   "outputs": [
    {
     "data": {
      "text/html": [
       "<div>\n",
       "<style scoped>\n",
       "    .dataframe tbody tr th:only-of-type {\n",
       "        vertical-align: middle;\n",
       "    }\n",
       "\n",
       "    .dataframe tbody tr th {\n",
       "        vertical-align: top;\n",
       "    }\n",
       "\n",
       "    .dataframe thead th {\n",
       "        text-align: right;\n",
       "    }\n",
       "</style>\n",
       "<table border=\"1\" class=\"dataframe\">\n",
       "  <thead>\n",
       "    <tr style=\"text-align: right;\">\n",
       "      <th></th>\n",
       "      <th>ano1998Suicídios</th>\n",
       "      <th>ano2000Suicídios</th>\n",
       "      <th>ano2002Suicídios</th>\n",
       "      <th>ano2004Suicídios</th>\n",
       "      <th>ano1998PIB</th>\n",
       "      <th>ano2000PIB</th>\n",
       "      <th>ano2002PIB</th>\n",
       "      <th>ano2004PIB</th>\n",
       "      <th>G7</th>\n",
       "    </tr>\n",
       "    <tr>\n",
       "      <th>pais</th>\n",
       "      <th></th>\n",
       "      <th></th>\n",
       "      <th></th>\n",
       "      <th></th>\n",
       "      <th></th>\n",
       "      <th></th>\n",
       "      <th></th>\n",
       "      <th></th>\n",
       "      <th></th>\n",
       "    </tr>\n",
       "  </thead>\n",
       "  <tbody>\n",
       "    <tr>\n",
       "      <th>Argentina</th>\n",
       "      <td>6.571886</td>\n",
       "      <td>7.578039</td>\n",
       "      <td>8.399384</td>\n",
       "      <td>8.045732</td>\n",
       "      <td>8730.0</td>\n",
       "      <td>8180.0</td>\n",
       "      <td>6820.0</td>\n",
       "      <td>7910.0</td>\n",
       "      <td>NÃO</td>\n",
       "    </tr>\n",
       "    <tr>\n",
       "      <th>Australia</th>\n",
       "      <td>13.311070</td>\n",
       "      <td>11.693990</td>\n",
       "      <td>11.030150</td>\n",
       "      <td>9.656323</td>\n",
       "      <td>41600.0</td>\n",
       "      <td>44300.0</td>\n",
       "      <td>45800.0</td>\n",
       "      <td>47900.0</td>\n",
       "      <td>NÃO</td>\n",
       "    </tr>\n",
       "    <tr>\n",
       "      <th>Canada</th>\n",
       "      <td>11.271260</td>\n",
       "      <td>10.696490</td>\n",
       "      <td>10.461190</td>\n",
       "      <td>10.100990</td>\n",
       "      <td>40100.0</td>\n",
       "      <td>43600.0</td>\n",
       "      <td>44900.0</td>\n",
       "      <td>46200.0</td>\n",
       "      <td>SIM</td>\n",
       "    </tr>\n",
       "    <tr>\n",
       "      <th>Chile</th>\n",
       "      <td>7.180727</td>\n",
       "      <td>9.828766</td>\n",
       "      <td>10.264100</td>\n",
       "      <td>10.684380</td>\n",
       "      <td>9250.0</td>\n",
       "      <td>9470.0</td>\n",
       "      <td>9850.0</td>\n",
       "      <td>10800.0</td>\n",
       "      <td>NÃO</td>\n",
       "    </tr>\n",
       "    <tr>\n",
       "      <th>Costa Rica</th>\n",
       "      <td>6.536646</td>\n",
       "      <td>6.668331</td>\n",
       "      <td>7.162079</td>\n",
       "      <td>8.127507</td>\n",
       "      <td>6020.0</td>\n",
       "      <td>6230.0</td>\n",
       "      <td>6430.0</td>\n",
       "      <td>6790.0</td>\n",
       "      <td>NÃO</td>\n",
       "    </tr>\n",
       "    <tr>\n",
       "      <th>Denmark</th>\n",
       "      <td>11.693580</td>\n",
       "      <td>10.960500</td>\n",
       "      <td>10.184290</td>\n",
       "      <td>10.061660</td>\n",
       "      <td>52600.0</td>\n",
       "      <td>55900.0</td>\n",
       "      <td>56200.0</td>\n",
       "      <td>57600.0</td>\n",
       "      <td>NÃO</td>\n",
       "    </tr>\n",
       "    <tr>\n",
       "      <th>France</th>\n",
       "      <td>14.812090</td>\n",
       "      <td>14.992610</td>\n",
       "      <td>14.594050</td>\n",
       "      <td>14.498240</td>\n",
       "      <td>36200.0</td>\n",
       "      <td>38500.0</td>\n",
       "      <td>39100.0</td>\n",
       "      <td>39900.0</td>\n",
       "      <td>SIM</td>\n",
       "    </tr>\n",
       "    <tr>\n",
       "      <th>Germany</th>\n",
       "      <td>11.171640</td>\n",
       "      <td>10.416160</td>\n",
       "      <td>10.304270</td>\n",
       "      <td>9.719625</td>\n",
       "      <td>36300.0</td>\n",
       "      <td>38000.0</td>\n",
       "      <td>38500.0</td>\n",
       "      <td>38700.0</td>\n",
       "      <td>SIM</td>\n",
       "    </tr>\n",
       "    <tr>\n",
       "      <th>Greece</th>\n",
       "      <td>3.033250</td>\n",
       "      <td>2.911162</td>\n",
       "      <td>2.292947</td>\n",
       "      <td>2.521790</td>\n",
       "      <td>21900.0</td>\n",
       "      <td>23300.0</td>\n",
       "      <td>25000.0</td>\n",
       "      <td>27600.0</td>\n",
       "      <td>NÃO</td>\n",
       "    </tr>\n",
       "    <tr>\n",
       "      <th>Italy</th>\n",
       "      <td>5.947945</td>\n",
       "      <td>5.431369</td>\n",
       "      <td>5.341180</td>\n",
       "      <td>5.313702</td>\n",
       "      <td>34400.0</td>\n",
       "      <td>36200.0</td>\n",
       "      <td>36800.0</td>\n",
       "      <td>37100.0</td>\n",
       "      <td>SIM</td>\n",
       "    </tr>\n",
       "    <tr>\n",
       "      <th>Japan</th>\n",
       "      <td>19.483830</td>\n",
       "      <td>18.350940</td>\n",
       "      <td>18.028550</td>\n",
       "      <td>18.536780</td>\n",
       "      <td>41300.0</td>\n",
       "      <td>42200.0</td>\n",
       "      <td>42200.0</td>\n",
       "      <td>43700.0</td>\n",
       "      <td>SIM</td>\n",
       "    </tr>\n",
       "    <tr>\n",
       "      <th>Kuwait</th>\n",
       "      <td>1.308118</td>\n",
       "      <td>1.235284</td>\n",
       "      <td>1.564255</td>\n",
       "      <td>1.508789</td>\n",
       "      <td>38900.0</td>\n",
       "      <td>35800.0</td>\n",
       "      <td>35500.0</td>\n",
       "      <td>44800.0</td>\n",
       "      <td>NÃO</td>\n",
       "    </tr>\n",
       "    <tr>\n",
       "      <th>Mexico</th>\n",
       "      <td>3.716372</td>\n",
       "      <td>3.724148</td>\n",
       "      <td>3.987383</td>\n",
       "      <td>4.157453</td>\n",
       "      <td>8590.0</td>\n",
       "      <td>9000.0</td>\n",
       "      <td>8730.0</td>\n",
       "      <td>8980.0</td>\n",
       "      <td>NÃO</td>\n",
       "    </tr>\n",
       "    <tr>\n",
       "      <th>Norway</th>\n",
       "      <td>11.609420</td>\n",
       "      <td>11.440050</td>\n",
       "      <td>9.992784</td>\n",
       "      <td>10.723570</td>\n",
       "      <td>78700.0</td>\n",
       "      <td>81700.0</td>\n",
       "      <td>83700.0</td>\n",
       "      <td>86800.0</td>\n",
       "      <td>NÃO</td>\n",
       "    </tr>\n",
       "    <tr>\n",
       "      <th>Sweden</th>\n",
       "      <td>11.325280</td>\n",
       "      <td>10.501980</td>\n",
       "      <td>10.970880</td>\n",
       "      <td>10.686620</td>\n",
       "      <td>40900.0</td>\n",
       "      <td>44700.0</td>\n",
       "      <td>46100.0</td>\n",
       "      <td>48800.0</td>\n",
       "      <td>NÃO</td>\n",
       "    </tr>\n",
       "    <tr>\n",
       "      <th>United Kingdom</th>\n",
       "      <td>6.826987</td>\n",
       "      <td>6.589573</td>\n",
       "      <td>6.370787</td>\n",
       "      <td>6.271399</td>\n",
       "      <td>33500.0</td>\n",
       "      <td>35600.0</td>\n",
       "      <td>37100.0</td>\n",
       "      <td>38800.0</td>\n",
       "      <td>SIM</td>\n",
       "    </tr>\n",
       "    <tr>\n",
       "      <th>United States</th>\n",
       "      <td>10.381390</td>\n",
       "      <td>9.532645</td>\n",
       "      <td>9.955360</td>\n",
       "      <td>10.026330</td>\n",
       "      <td>42300.0</td>\n",
       "      <td>45100.0</td>\n",
       "      <td>45400.0</td>\n",
       "      <td>47600.0</td>\n",
       "      <td>SIM</td>\n",
       "    </tr>\n",
       "    <tr>\n",
       "      <th>Uzbekistan</th>\n",
       "      <td>8.326845</td>\n",
       "      <td>9.197172</td>\n",
       "      <td>7.033736</td>\n",
       "      <td>5.342295</td>\n",
       "      <td>770.0</td>\n",
       "      <td>813.0</td>\n",
       "      <td>860.0</td>\n",
       "      <td>943.0</td>\n",
       "      <td>NÃO</td>\n",
       "    </tr>\n",
       "  </tbody>\n",
       "</table>\n",
       "</div>"
      ],
      "text/plain": [
       "                ano1998Suicídios  ano2000Suicídios  ano2002Suicídios  \\\n",
       "pais                                                                   \n",
       "Argentina               6.571886          7.578039          8.399384   \n",
       "Australia              13.311070         11.693990         11.030150   \n",
       "Canada                 11.271260         10.696490         10.461190   \n",
       "Chile                   7.180727          9.828766         10.264100   \n",
       "Costa Rica              6.536646          6.668331          7.162079   \n",
       "Denmark                11.693580         10.960500         10.184290   \n",
       "France                 14.812090         14.992610         14.594050   \n",
       "Germany                11.171640         10.416160         10.304270   \n",
       "Greece                  3.033250          2.911162          2.292947   \n",
       "Italy                   5.947945          5.431369          5.341180   \n",
       "Japan                  19.483830         18.350940         18.028550   \n",
       "Kuwait                  1.308118          1.235284          1.564255   \n",
       "Mexico                  3.716372          3.724148          3.987383   \n",
       "Norway                 11.609420         11.440050          9.992784   \n",
       "Sweden                 11.325280         10.501980         10.970880   \n",
       "United Kingdom          6.826987          6.589573          6.370787   \n",
       "United States          10.381390          9.532645          9.955360   \n",
       "Uzbekistan              8.326845          9.197172          7.033736   \n",
       "\n",
       "                ano2004Suicídios  ano1998PIB  ano2000PIB  ano2002PIB  \\\n",
       "pais                                                                   \n",
       "Argentina               8.045732      8730.0      8180.0      6820.0   \n",
       "Australia               9.656323     41600.0     44300.0     45800.0   \n",
       "Canada                 10.100990     40100.0     43600.0     44900.0   \n",
       "Chile                  10.684380      9250.0      9470.0      9850.0   \n",
       "Costa Rica              8.127507      6020.0      6230.0      6430.0   \n",
       "Denmark                10.061660     52600.0     55900.0     56200.0   \n",
       "France                 14.498240     36200.0     38500.0     39100.0   \n",
       "Germany                 9.719625     36300.0     38000.0     38500.0   \n",
       "Greece                  2.521790     21900.0     23300.0     25000.0   \n",
       "Italy                   5.313702     34400.0     36200.0     36800.0   \n",
       "Japan                  18.536780     41300.0     42200.0     42200.0   \n",
       "Kuwait                  1.508789     38900.0     35800.0     35500.0   \n",
       "Mexico                  4.157453      8590.0      9000.0      8730.0   \n",
       "Norway                 10.723570     78700.0     81700.0     83700.0   \n",
       "Sweden                 10.686620     40900.0     44700.0     46100.0   \n",
       "United Kingdom          6.271399     33500.0     35600.0     37100.0   \n",
       "United States          10.026330     42300.0     45100.0     45400.0   \n",
       "Uzbekistan              5.342295       770.0       813.0       860.0   \n",
       "\n",
       "                ano2004PIB   G7  \n",
       "pais                             \n",
       "Argentina           7910.0  NÃO  \n",
       "Australia          47900.0  NÃO  \n",
       "Canada             46200.0  SIM  \n",
       "Chile              10800.0  NÃO  \n",
       "Costa Rica          6790.0  NÃO  \n",
       "Denmark            57600.0  NÃO  \n",
       "France             39900.0  SIM  \n",
       "Germany            38700.0  SIM  \n",
       "Greece             27600.0  NÃO  \n",
       "Italy              37100.0  SIM  \n",
       "Japan              43700.0  SIM  \n",
       "Kuwait             44800.0  NÃO  \n",
       "Mexico              8980.0  NÃO  \n",
       "Norway             86800.0  NÃO  \n",
       "Sweden             48800.0  NÃO  \n",
       "United Kingdom     38800.0  SIM  \n",
       "United States      47600.0  SIM  \n",
       "Uzbekistan           943.0  NÃO  "
      ]
     },
     "execution_count": 120,
     "metadata": {},
     "output_type": "execute_result"
    }
   ],
   "source": [
    "G7 = ['Japan', 'Canada', 'France', 'Germany', 'Italy', 'United Kingdom', 'United States']\n",
    "dados_gerais.loc[G7,'G7'] = 'SIM'\n",
    "dados_gerais"
   ]
  },
  {
   "cell_type": "markdown",
   "metadata": {},
   "source": [
    "Após terminar o categorização, enfim pode-se efetuar a comparação dos suicídios por boxplot"
   ]
  },
  {
   "cell_type": "code",
   "execution_count": 121,
   "metadata": {},
   "outputs": [
    {
     "data": {
      "text/plain": [
       "<matplotlib.axes._subplots.AxesSubplot at 0x1217cb9a390>"
      ]
     },
     "execution_count": 121,
     "metadata": {},
     "output_type": "execute_result"
    },
    {
     "data": {
      "image/png": "[encoded data removed]",
      "text/plain": [
       "<Figure size 432x288 with 1 Axes>"
      ]
     },
     "metadata": {},
     "output_type": "display_data"
    },
    {
     "data": {
      "image/png": "[encoded data removed]",
      "text/plain": [
       "<Figure size 432x288 with 1 Axes>"
      ]
     },
     "metadata": {},
     "output_type": "display_data"
    },
    {
     "data": {
      "image/png": "[encoded data removed]",
      "text/plain": [
       "<Figure size 432x288 with 1 Axes>"
      ]
     },
     "metadata": {},
     "output_type": "display_data"
    },
    {
     "data": {
      "image/png": "[encoded data removed]",
      "text/plain": [
       "<Figure size 432x288 with 1 Axes>"
      ]
     },
     "metadata": {},
     "output_type": "display_data"
    }
   ],
   "source": [
    "dados_gerais.boxplot(column='ano1998Suicídios', by = 'G7')\n",
    "dados_gerais.boxplot(column='ano2000Suicídios', by = 'G7')\n",
    "dados_gerais.boxplot(column='ano2002Suicídios', by = 'G7')\n",
    "dados_gerais.boxplot(column='ano2004Suicídios', by = 'G7')"
   ]
  },
  {
   "cell_type": "markdown",
   "metadata": {},
   "source": [
    "Pelo boxplot pode se notar que os países do G7 possuem números mais altos de suicídios, porque sua mediana também está acima da mediana de quem não está no G7"
   ]
  },
  {
   "cell_type": "markdown",
   "metadata": {},
   "source": [
    "## Média"
   ]
  },
  {
   "cell_type": "markdown",
   "metadata": {},
   "source": [
    "Na ausência de out lines, o cálculo da média pode se tornar útil para comparações."
   ]
  },
  {
   "cell_type": "code",
   "execution_count": 122,
   "metadata": {},
   "outputs": [],
   "source": [
    "media_suicidios_g7 = sui_limpg7.mean()\n",
    "media_suicidios_fora_g7 = sui_limpfora.mean()"
   ]
  },
  {
   "cell_type": "code",
   "execution_count": 123,
   "metadata": {},
   "outputs": [
    {
     "data": {
      "text/plain": [
       "ano1998    11.413592\n",
       "ano2000    10.858541\n",
       "ano2002    10.722198\n",
       "ano2004    10.638152\n",
       "dtype: float64"
      ]
     },
     "execution_count": 123,
     "metadata": {},
     "output_type": "execute_result"
    }
   ],
   "source": [
    "media_suicidios_g7"
   ]
  },
  {
   "cell_type": "code",
   "execution_count": 124,
   "metadata": {},
   "outputs": [
    {
     "data": {
      "text/plain": [
       "ano1998    7.692109\n",
       "ano2000    7.794493\n",
       "ano2002    7.534726\n",
       "ano2004    7.410556\n",
       "dtype: float64"
      ]
     },
     "execution_count": 124,
     "metadata": {},
     "output_type": "execute_result"
    }
   ],
   "source": [
    "media_suicidios_fora_g7"
   ]
  },
  {
   "cell_type": "markdown",
   "metadata": {},
   "source": [
    "Em todos os anos as médias de suícidios são maiores nos países do G7 aos países que não são."
   ]
  },
  {
   "cell_type": "markdown",
   "metadata": {},
   "source": [
    "## Histograma com separação por faixas"
   ]
  },
  {
   "cell_type": "markdown",
   "metadata": {},
   "source": [
    "É interessante antes de definir os intervalos que as frequências serão agrupadas, como ferramenta pode-se fazer uma análise com o método .describe()"
   ]
  },
  {
   "cell_type": "code",
   "execution_count": 125,
   "metadata": {},
   "outputs": [
    {
     "data": {
      "text/html": [
       "<div>\n",
       "<style scoped>\n",
       "    .dataframe tbody tr th:only-of-type {\n",
       "        vertical-align: middle;\n",
       "    }\n",
       "\n",
       "    .dataframe tbody tr th {\n",
       "        vertical-align: top;\n",
       "    }\n",
       "\n",
       "    .dataframe thead th {\n",
       "        text-align: right;\n",
       "    }\n",
       "</style>\n",
       "<table border=\"1\" class=\"dataframe\">\n",
       "  <thead>\n",
       "    <tr style=\"text-align: right;\">\n",
       "      <th></th>\n",
       "      <th>ano1998Suicídios</th>\n",
       "      <th>ano2000Suicídios</th>\n",
       "      <th>ano2002Suicídios</th>\n",
       "      <th>ano2004Suicídios</th>\n",
       "      <th>ano1998PIB</th>\n",
       "      <th>ano2000PIB</th>\n",
       "      <th>ano2002PIB</th>\n",
       "      <th>ano2004PIB</th>\n",
       "    </tr>\n",
       "  </thead>\n",
       "  <tbody>\n",
       "    <tr>\n",
       "      <th>count</th>\n",
       "      <td>18.000000</td>\n",
       "      <td>18.000000</td>\n",
       "      <td>18.000000</td>\n",
       "      <td>18.000000</td>\n",
       "      <td>18.000000</td>\n",
       "      <td>18.000000</td>\n",
       "      <td>18.000000</td>\n",
       "      <td>18.000000</td>\n",
       "    </tr>\n",
       "    <tr>\n",
       "      <th>mean</th>\n",
       "      <td>9.139352</td>\n",
       "      <td>8.986067</td>\n",
       "      <td>8.774299</td>\n",
       "      <td>8.665732</td>\n",
       "      <td>31781.111111</td>\n",
       "      <td>33255.166667</td>\n",
       "      <td>33832.777778</td>\n",
       "      <td>35606.833333</td>\n",
       "    </tr>\n",
       "    <tr>\n",
       "      <th>std</th>\n",
       "      <td>4.509003</td>\n",
       "      <td>4.199126</td>\n",
       "      <td>4.072417</td>\n",
       "      <td>4.128693</td>\n",
       "      <td>19531.369004</td>\n",
       "      <td>20544.681849</td>\n",
       "      <td>21046.110387</td>\n",
       "      <td>21779.231079</td>\n",
       "    </tr>\n",
       "    <tr>\n",
       "      <th>min</th>\n",
       "      <td>1.308118</td>\n",
       "      <td>1.235284</td>\n",
       "      <td>1.564255</td>\n",
       "      <td>1.508789</td>\n",
       "      <td>770.000000</td>\n",
       "      <td>813.000000</td>\n",
       "      <td>860.000000</td>\n",
       "      <td>943.000000</td>\n",
       "    </tr>\n",
       "    <tr>\n",
       "      <th>25%</th>\n",
       "      <td>6.545456</td>\n",
       "      <td>6.609262</td>\n",
       "      <td>6.536524</td>\n",
       "      <td>5.574571</td>\n",
       "      <td>12412.500000</td>\n",
       "      <td>12927.500000</td>\n",
       "      <td>13637.500000</td>\n",
       "      <td>15000.000000</td>\n",
       "    </tr>\n",
       "    <tr>\n",
       "      <th>50%</th>\n",
       "      <td>9.354118</td>\n",
       "      <td>9.680706</td>\n",
       "      <td>9.974072</td>\n",
       "      <td>9.687974</td>\n",
       "      <td>36250.000000</td>\n",
       "      <td>37100.000000</td>\n",
       "      <td>37800.000000</td>\n",
       "      <td>39350.000000</td>\n",
       "    </tr>\n",
       "    <tr>\n",
       "      <th>75%</th>\n",
       "      <td>11.538385</td>\n",
       "      <td>10.894497</td>\n",
       "      <td>10.421960</td>\n",
       "      <td>10.538532</td>\n",
       "      <td>41200.000000</td>\n",
       "      <td>44125.000000</td>\n",
       "      <td>45275.000000</td>\n",
       "      <td>47250.000000</td>\n",
       "    </tr>\n",
       "    <tr>\n",
       "      <th>max</th>\n",
       "      <td>19.483830</td>\n",
       "      <td>18.350940</td>\n",
       "      <td>18.028550</td>\n",
       "      <td>18.536780</td>\n",
       "      <td>78700.000000</td>\n",
       "      <td>81700.000000</td>\n",
       "      <td>83700.000000</td>\n",
       "      <td>86800.000000</td>\n",
       "    </tr>\n",
       "  </tbody>\n",
       "</table>\n",
       "</div>"
      ],
      "text/plain": [
       "       ano1998Suicídios  ano2000Suicídios  ano2002Suicídios  ano2004Suicídios  \\\n",
       "count         18.000000         18.000000         18.000000         18.000000   \n",
       "mean           9.139352          8.986067          8.774299          8.665732   \n",
       "std            4.509003          4.199126          4.072417          4.128693   \n",
       "min            1.308118          1.235284          1.564255          1.508789   \n",
       "25%            6.545456          6.609262          6.536524          5.574571   \n",
       "50%            9.354118          9.680706          9.974072          9.687974   \n",
       "75%           11.538385         10.894497         10.421960         10.538532   \n",
       "max           19.483830         18.350940         18.028550         18.536780   \n",
       "\n",
       "         ano1998PIB    ano2000PIB    ano2002PIB    ano2004PIB  \n",
       "count     18.000000     18.000000     18.000000     18.000000  \n",
       "mean   31781.111111  33255.166667  33832.777778  35606.833333  \n",
       "std    19531.369004  20544.681849  21046.110387  21779.231079  \n",
       "min      770.000000    813.000000    860.000000    943.000000  \n",
       "25%    12412.500000  12927.500000  13637.500000  15000.000000  \n",
       "50%    36250.000000  37100.000000  37800.000000  39350.000000  \n",
       "75%    41200.000000  44125.000000  45275.000000  47250.000000  \n",
       "max    78700.000000  81700.000000  83700.000000  86800.000000  "
      ]
     },
     "execution_count": 125,
     "metadata": {},
     "output_type": "execute_result"
    }
   ],
   "source": [
    "dados_gerais.describe()"
   ]
  },
  {
   "cell_type": "markdown",
   "metadata": {},
   "source": [
    "Após a análise da tabela foi possível verficar que as seguintes faixas seriam adequadas para a análise"
   ]
  },
  {
   "cell_type": "code",
   "execution_count": 126,
   "metadata": {},
   "outputs": [],
   "source": [
    "faixa1998 = np.arange(0, 50, 2.5)\n",
    "faixa2000 = np.arange(800, 82800, 1000)\n",
    "faixa2002 = np.arange(800, 84800, 1000)"
   ]
  },
  {
   "cell_type": "markdown",
   "metadata": {},
   "source": [
    "### Histograma de 1998"
   ]
  },
  {
   "cell_type": "code",
   "execution_count": 138,
   "metadata": {},
   "outputs": [
    {
     "data": {
      "image/png": "[encoded data removed]",
      "text/plain": [
       "<Figure size 432x288 with 1 Axes>"
      ]
     },
     "metadata": {},
     "output_type": "display_data"
    }
   ],
   "source": [
    "#dados_gerais.hist(column=\"ano1998Suicídios\", by=\"G7\");\n",
    "#dados_gerais.hist(column=\"ano2000Suicídios\", by=\"G7\");\n",
    "#dados_gerais.hist(column=\"ano2002Suicídios\", by=\"G7\");\n",
    "#dados_gerais.hist(column=\"ano2004Suicídios\", by=\"G7\");\n",
    "#sui_limpg7\n",
    "#sui_limpfora\n",
    "plt.hist(sui_limpg7.ano1998, bins=20)\n",
    "plt.hist(sui_limpfora['ano1998'], bins=20)\n",
    "plt.show()\n",
    "\n",
    "\n",
    "#plot = dados_gerais.ano1998Suicídios.plot.hist(bins=faixa1998, title='Gráfico frequência absoluta por faixas', figsize=(8, 8), alpha=0.9)\n",
    "#plt.ylabel('Frequência absoluta de suicídios por cem mil pessoas')\n",
    "#plt.xlabel('PIB')"
   ]
  },
  {
   "cell_type": "markdown",
   "metadata": {},
   "source": [
    "### Histograma de 2000"
   ]
  },
  {
   "cell_type": "code",
   "execution_count": null,
   "metadata": {},
   "outputs": [],
   "source": []
  },
  {
   "cell_type": "markdown",
   "metadata": {},
   "source": [
    "### Histograma de 2002"
   ]
  },
  {
   "cell_type": "code",
   "execution_count": null,
   "metadata": {},
   "outputs": [],
   "source": []
  },
  {
   "cell_type": "code",
   "execution_count": null,
   "metadata": {},
   "outputs": [],
   "source": []
  }
 ],
 "metadata": {
  "kernelspec": {
   "display_name": "Python 3",
   "language": "python",
   "name": "python3"
  },
  "language_info": {
   "codemirror_mode": {
    "name": "ipython",
    "version": 3
   },
   "file_extension": ".py",
   "mimetype": "text/x-python",
   "name": "python",
   "nbconvert_exporter": "python",
   "pygments_lexer": "ipython3",
   "version": "3.7.1"
  }
 },
 "nbformat": 4,
 "nbformat_minor": 2
}
