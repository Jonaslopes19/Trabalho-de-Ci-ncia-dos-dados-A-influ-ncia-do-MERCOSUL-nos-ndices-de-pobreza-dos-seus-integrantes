{
 "cells": [
  {
   "cell_type": "markdown",
   "metadata": {},
   "source": [
    "# Projeto_de_ciência_dos_dados-Organizações_Internacionais"
   ]
  },
  {
   "cell_type": "markdown",
   "metadata": {},
   "source": [
    "## Jonas da Silva Lopes - Turma \"A\""
   ]
  },
  {
   "cell_type": "markdown",
   "metadata": {},
   "source": [
    "## Git hub"
   ]
  },
  {
   "cell_type": "markdown",
   "metadata": {},
   "source": [
    "User: JonasLopes19   \n",
    "Repositório: Trabalho_de_C_Dados  \n",
    "Arquivo: RASCUNHO4 - ciência dos dados - Jonas da Silva Lopes.ipynb"
   ]
  },
  {
   "cell_type": "markdown",
   "metadata": {},
   "source": [
    "## Pergunta a ser trabalhada:"
   ]
  },
  {
   "cell_type": "markdown",
   "metadata": {},
   "source": [
    "Os países integrantes do G8 tendem a possuir uma maior taxa de suicídio, aos países do que possuem menores índices de desenvolvimento econômico."
   ]
  },
  {
   "cell_type": "markdown",
   "metadata": {},
   "source": [
    "## Mecanismo"
   ]
  },
  {
   "cell_type": "markdown",
   "metadata": {},
   "source": [
    "Os países que são mais desenvolvidos, como no caso dos países que formam o G8, podem tender a exigirem demandas cada altas de sucesso pessoal, seja: profissional, interpessoal, acadêmico, financeiro, entre outros. Essa coerção em uma nação pode criar uma psicológica nas pessoas, o que as faz pensar que seu único objetivo de vida seja alcançar o sucesso nessas áreas da vida, assim por muitas vezes pessoas que \"falham\" com suas metas, ou pensam que essas são inalcançáveis tiram suas próprias vidas, tendo em vista que seus únicos objetivos na vida não podem ser alcançados. Logo, pode-se afirmar que o desenvolvimento dos países da União Europeia aumenta a incidência de suicídios neles devido a uma grande pressão social promovida pela sociedade."
   ]
  },
  {
   "cell_type": "markdown",
   "metadata": {},
   "source": [
    "## Imports"
   ]
  },
  {
   "cell_type": "code",
   "execution_count": 1,
   "metadata": {},
   "outputs": [],
   "source": [
    "%matplotlib inline\n",
    "import numpy as np\n",
    "import matplotlib.pyplot as plt\n",
    "import matplotlib\n",
    "matplotlib.style.use('ggplot')\n",
    "import os\n",
    "import pandas as pd"
   ]
  },
  {
   "cell_type": "markdown",
   "metadata": {},
   "source": [
    "## Importando os dados que serão utilizados"
   ]
  },
  {
   "cell_type": "code",
   "execution_count": 2,
   "metadata": {},
   "outputs": [],
   "source": [
    "suicidio_porcemm = pd.read_excel(r'C:\\Users\\User\\Documents\\Facul\\Primeiro ano\\Segundo semestre\\Ciência dos dados\\Projeto 1\\Trabalho_de_C_dados\\Taxas_de_sucidio\\suicidio(por100000).xlsx')\n",
    "pib_total = pd.read_excel(r'C:\\Users\\User\\Documents\\Facul\\Primeiro ano\\Segundo semestre\\Ciência dos dados\\Projeto 1\\Trabalho_de_C_dados\\Pibs\\pib.xlsx')"
   ]
  },
  {
   "cell_type": "markdown",
   "metadata": {},
   "source": [
    "## Montar uma lista com países do G8 junto aos que não estão e listas com ambos separados"
   ]
  },
  {
   "cell_type": "markdown",
   "metadata": {},
   "source": [
    "Vale ressaltar que para aa escolha dos países também foi levado em conta a sua quantidade de dados disponíveis"
   ]
  },
  {
   "cell_type": "code",
   "execution_count": 16,
   "metadata": {},
   "outputs": [
    {
     "ename": "TypeError",
     "evalue": "'Series' object is not callable",
     "output_type": "error",
     "traceback": [
      "\u001b[1;31m---------------------------------------------------------------------------\u001b[0m",
      "\u001b[1;31mTypeError\u001b[0m                                 Traceback (most recent call last)",
      "\u001b[1;32m<ipython-input-16-f51d9037c646>\u001b[0m in \u001b[0;36m<module>\u001b[1;34m\u001b[0m\n\u001b[0;32m     16\u001b[0m                                     \u001b[1;33m(\u001b[0m\u001b[0mpib_total\u001b[0m\u001b[1;33m.\u001b[0m\u001b[0mpais\u001b[0m\u001b[1;33m==\u001b[0m\u001b[1;34m'Mexico'\u001b[0m\u001b[1;33m)\u001b[0m \u001b[1;33m|\u001b[0m\u001b[1;33m\u001b[0m\u001b[1;33m\u001b[0m\u001b[0m\n\u001b[0;32m     17\u001b[0m                                    \u001b[1;33m(\u001b[0m\u001b[0mpib_total\u001b[0m\u001b[1;33m.\u001b[0m\u001b[0mpais\u001b[0m\u001b[1;33m==\u001b[0m\u001b[1;34m'Uzbekistan'\u001b[0m\u001b[1;33m)\u001b[0m \u001b[1;33m|\u001b[0m\u001b[1;33m\u001b[0m\u001b[1;33m\u001b[0m\u001b[0m\n\u001b[1;32m---> 18\u001b[1;33m                                    \u001b[1;33m(\u001b[0m\u001b[0mpib_total\u001b[0m\u001b[1;33m.\u001b[0m\u001b[0mpais\u001b[0m\u001b[1;33m==\u001b[0m\u001b[1;34m'Kuwait'\u001b[0m\u001b[1;33m)\u001b[0m \u001b[1;33m|\u001b[0m\u001b[1;33m\u001b[0m\u001b[1;33m\u001b[0m\u001b[0m\n\u001b[0m\u001b[0;32m     19\u001b[0m                                    (pib_total.pais=='Costa Rica')]\n\u001b[0;32m     20\u001b[0m \u001b[1;33m\u001b[0m\u001b[0m\n",
      "\u001b[1;31mTypeError\u001b[0m: 'Series' object is not callable"
     ]
    }
   ],
   "source": [
    "pibt = pib_total[(pib_total.pais=='Canada') | \n",
    "                                    (pib_total.pais=='France') | \n",
    "                                    (pib_total.pais=='Germany') | \n",
    "                                    (pib_total.pais=='Italy') | \n",
    "                                    (pib_total.pais=='Japan') | \n",
    "                                    (pib_total.pais=='Russia') | \n",
    "                                    (pib_total.pais=='United Kingdom') | \n",
    "                                    (pib_total.pais=='United States')\n",
    "                                    (pib_total.pais=='Norway') | \n",
    "                                    (pib_total.pais=='Australia') | \n",
    "                                    (pib_total.pais=='Denmark') | \n",
    "                                    (pib_total.pais=='Sweden') | \n",
    "                                    (pib_total.pais=='Chile') | \n",
    "                                    (pib_total.pais=='Argentina') | \n",
    "                                    (pib_total.pais=='Greece') | \n",
    "                                    (pib_total.pais=='Mexico') |\n",
    "                                    (pib_total.pais=='Uzbekistan') |\n",
    "                                    (pib_total.pais=='Kuwait') |\n",
    "                                    (pib_total.pais=='Costa Rica')]\n",
    "\n",
    "suicidio_cem = suicidio_porcemm[(suicidio_porcemm.pais=='Canada') | \n",
    "                                    (suicidio_porcemm.pais=='France') | \n",
    "                                    (suicidio_porcemm.pais=='Germany') | \n",
    "                                    (suicidio_porcemm.pais=='Italy') | \n",
    "                                    (suicidio_porcemm.pais=='Japan') | \n",
    "                                    (suicidio_porcemm.pais=='Russia') | \n",
    "                                    (suicidio_porcemm.pais=='United Kingdom') | \n",
    "                                    (suicidio_porcemm.pais=='United States')\n",
    "                                    (suicidio_porcemm.pais=='Norway') | \n",
    "                                    (suicidio_porcemm.pais=='Australia') | \n",
    "                                    (suicidio_porcemm.pais=='Denmark') | \n",
    "                                    (suicidio_porcemm.pais=='Sweden') | \n",
    "                                    (suicidio_porcemm.pais=='Chile') | \n",
    "                                    (suicidio_porcemm.pais=='Argentina') | \n",
    "                                    (suicidio_porcemm.pais=='Greece') | \n",
    "                                    (suicidio_porcemm.pais=='Mexico') |\n",
    "                                   (suicidio_porcemm.pais=='Uzbekistan') |\n",
    "                                   (suicidio_porcemm.pais=='Kuwait') |\n",
    "                                   (suicidio_porcemm.pais=='Costa Rica')]\n",
    "\n",
    "\n",
    "pais_pibt_g8 = pib_total[(pib_total.pais=='Canada') | \n",
    "                                    (pib_total.pais=='France') | \n",
    "                                    (pib_total.pais=='Germany') | \n",
    "                                    (pib_total.pais=='Italy') | \n",
    "                                    (pib_total.pais=='Japan') | \n",
    "                                    (pib_total.pais=='Russia') | \n",
    "                                    (pib_total.pais=='United Kingdom') | \n",
    "                                    (pib_total.pais=='United States')]\n",
    "\n",
    "\n",
    "pais_pibt_fora = pib_total[(pib_total.pais=='Norway') | \n",
    "                                    (pib_total.pais=='Australia') | \n",
    "                                    (pib_total.pais=='Denmark') | \n",
    "                                    (pib_total.pais=='Sweden') | \n",
    "                                    (pib_total.pais=='Chile') | \n",
    "                                    (pib_total.pais=='Argentina') | \n",
    "                                    (pib_total.pais=='Greece') | \n",
    "                                    (pib_total.pais=='Mexico') |\n",
    "                                   (pib_total.pais=='Uzbekistan') |\n",
    "                                   (pib_total.pais=='Kuwait') |\n",
    "                                   (pib_total.pais=='Costa Rica')]\n",
    "\n",
    "\n",
    "suicidio_g8 = suicidio_porcemm[(suicidio_porcemm.pais=='Canada') | \n",
    "                                    (suicidio_porcemm.pais=='France') | \n",
    "                                    (suicidio_porcemm.pais=='Germany') | \n",
    "                                    (suicidio_porcemm.pais=='Italy') | \n",
    "                                    (suicidio_porcemm.pais=='Japan') | \n",
    "                                    (suicidio_porcemm.pais=='Russia') | \n",
    "                                    (suicidio_porcemm.pais=='United Kingdom') | \n",
    "                                    (suicidio_porcemm.pais=='United States')]\n",
    "\n",
    "\n",
    "suicidio_fora = suicidio_porcemm[(suicidio_porcemm.pais=='Norway') | \n",
    "                                    (suicidio_porcemm.pais=='Australia') | \n",
    "                                    (suicidio_porcemm.pais=='Denmark') | \n",
    "                                    (suicidio_porcemm.pais=='Sweden') | \n",
    "                                    (suicidio_porcemm.pais=='Chile') | \n",
    "                                    (suicidio_porcemm.pais=='Argentina') | \n",
    "                                    (suicidio_porcemm.pais=='Greece') | \n",
    "                                    (suicidio_porcemm.pais=='Mexico') |\n",
    "                                   (suicidio_porcemm.pais=='Uzbekistan') |\n",
    "                                   (suicidio_porcemm.pais=='Kuwait') |\n",
    "                                   (suicidio_porcemm.pais=='Costa Rica')]"
   ]
  },
  {
   "cell_type": "markdown",
   "metadata": {},
   "source": [
    "## Setar os países como Índice"
   ]
  },
  {
   "cell_type": "code",
   "execution_count": 14,
   "metadata": {},
   "outputs": [
    {
     "ename": "NameError",
     "evalue": "name 'pibt' is not defined",
     "output_type": "error",
     "traceback": [
      "\u001b[1;31m---------------------------------------------------------------------------\u001b[0m",
      "\u001b[1;31mNameError\u001b[0m                                 Traceback (most recent call last)",
      "\u001b[1;32m<ipython-input-14-7d6bf7008dec>\u001b[0m in \u001b[0;36m<module>\u001b[1;34m\u001b[0m\n\u001b[1;32m----> 1\u001b[1;33m \u001b[0mpib\u001b[0m \u001b[1;33m=\u001b[0m \u001b[0mpibt\u001b[0m\u001b[1;33m.\u001b[0m\u001b[0mset_index\u001b[0m\u001b[1;33m(\u001b[0m\u001b[1;34m\"pais\"\u001b[0m\u001b[1;33m)\u001b[0m\u001b[1;33m\u001b[0m\u001b[1;33m\u001b[0m\u001b[0m\n\u001b[0m\u001b[0;32m      2\u001b[0m \u001b[0msuicidio\u001b[0m \u001b[1;33m=\u001b[0m \u001b[0msuicidio_cem\u001b[0m\u001b[1;33m.\u001b[0m\u001b[0mset\u001b[0m\u001b[1;33m.\u001b[0m\u001b[0mindex\u001b[0m\u001b[1;33m(\u001b[0m\u001b[1;34m'pais'\u001b[0m\u001b[1;33m)\u001b[0m\u001b[1;33m\u001b[0m\u001b[1;33m\u001b[0m\u001b[0m\n\u001b[0;32m      3\u001b[0m \u001b[0msuig8\u001b[0m \u001b[1;33m=\u001b[0m \u001b[0msuicidio_g8\u001b[0m\u001b[1;33m.\u001b[0m\u001b[0mset_index\u001b[0m\u001b[1;33m(\u001b[0m\u001b[1;34m\"pais\"\u001b[0m\u001b[1;33m)\u001b[0m\u001b[1;33m\u001b[0m\u001b[1;33m\u001b[0m\u001b[0m\n\u001b[0;32m      4\u001b[0m \u001b[0msui_fora\u001b[0m \u001b[1;33m=\u001b[0m \u001b[0msuicidio_fora\u001b[0m\u001b[1;33m.\u001b[0m\u001b[0mset_index\u001b[0m\u001b[1;33m(\u001b[0m\u001b[1;34m\"pais\"\u001b[0m\u001b[1;33m)\u001b[0m\u001b[1;33m\u001b[0m\u001b[1;33m\u001b[0m\u001b[0m\n\u001b[0;32m      5\u001b[0m \u001b[0mpibtg8\u001b[0m \u001b[1;33m=\u001b[0m \u001b[0mpais_pibt_g8\u001b[0m\u001b[1;33m.\u001b[0m\u001b[0mset_index\u001b[0m\u001b[1;33m(\u001b[0m\u001b[1;34m'pais'\u001b[0m\u001b[1;33m)\u001b[0m\u001b[1;33m\u001b[0m\u001b[1;33m\u001b[0m\u001b[0m\n",
      "\u001b[1;31mNameError\u001b[0m: name 'pibt' is not defined"
     ]
    }
   ],
   "source": [
    "pib = pibt.set_index(\"pais\")\n",
    "suicidio = suicidio_cem.set.index('pais')\n",
    "suig8 = suicidio_g8.set_index(\"pais\")\n",
    "sui_fora = suicidio_fora.set_index(\"pais\")\n",
    "pibtg8 = pais_pibt_g8.set_index('pais')\n",
    "pibt_fora = pais_pibt_fora.set_index('pais')"
   ]
  },
  {
   "cell_type": "markdown",
   "metadata": {},
   "source": [
    "## Selecionar as colunas que serão analisadas"
   ]
  },
  {
   "cell_type": "markdown",
   "metadata": {},
   "source": [
    "As colunas são representações dos anos a que os dados pertencem, portanto foram escolhidos anos mais recentes e que possuíam uma maior amostragem de dados, para que assim pudesse ser possível a análise."
   ]
  },
  {
   "cell_type": "code",
   "execution_count": 6,
   "metadata": {},
   "outputs": [],
   "source": [
    "colunas = [0]*6\n",
    "k=1994\n",
    "i=0\n",
    "for ano in colunas:\n",
    "    colunas[i]=k\n",
    "    k+=2\n",
    "    i+=1\n",
    "\n",
    "\n",
    "pibtg8_1 = pibtg8.loc[:, colunas]\n",
    "suig8_1 = suig8.loc[:, colunas]\n",
    "pibt_fora_1 = pibt_fora.loc[:,colunas]\n",
    "sui_fora_1 = sui_fora.loc[:,colunas]"
   ]
  },
  {
   "cell_type": "markdown",
   "metadata": {},
   "source": [
    "## Limpa de dados não existentes"
   ]
  },
  {
   "cell_type": "code",
   "execution_count": 13,
   "metadata": {},
   "outputs": [
    {
     "data": {
      "text/html": [
       "<div>\n",
       "<style scoped>\n",
       "    .dataframe tbody tr th:only-of-type {\n",
       "        vertical-align: middle;\n",
       "    }\n",
       "\n",
       "    .dataframe tbody tr th {\n",
       "        vertical-align: top;\n",
       "    }\n",
       "\n",
       "    .dataframe thead th {\n",
       "        text-align: right;\n",
       "    }\n",
       "</style>\n",
       "<table border=\"1\" class=\"dataframe\">\n",
       "  <thead>\n",
       "    <tr style=\"text-align: right;\">\n",
       "      <th></th>\n",
       "      <th>1994</th>\n",
       "      <th>1996</th>\n",
       "      <th>1998</th>\n",
       "      <th>2000</th>\n",
       "      <th>2002</th>\n",
       "      <th>2004</th>\n",
       "    </tr>\n",
       "    <tr>\n",
       "      <th>pais</th>\n",
       "      <th></th>\n",
       "      <th></th>\n",
       "      <th></th>\n",
       "      <th></th>\n",
       "      <th></th>\n",
       "      <th></th>\n",
       "    </tr>\n",
       "  </thead>\n",
       "  <tbody>\n",
       "    <tr>\n",
       "      <th>Argentina</th>\n",
       "      <td>6.766797</td>\n",
       "      <td>6.521007</td>\n",
       "      <td>6.571886</td>\n",
       "      <td>7.578039</td>\n",
       "      <td>8.399384</td>\n",
       "      <td>8.045732</td>\n",
       "    </tr>\n",
       "    <tr>\n",
       "      <th>Australia</th>\n",
       "      <td>12.038130</td>\n",
       "      <td>12.449810</td>\n",
       "      <td>13.311070</td>\n",
       "      <td>11.693990</td>\n",
       "      <td>11.030150</td>\n",
       "      <td>9.656323</td>\n",
       "    </tr>\n",
       "    <tr>\n",
       "      <th>Chile</th>\n",
       "      <td>6.051927</td>\n",
       "      <td>6.639486</td>\n",
       "      <td>7.180727</td>\n",
       "      <td>9.828766</td>\n",
       "      <td>10.264100</td>\n",
       "      <td>10.684380</td>\n",
       "    </tr>\n",
       "    <tr>\n",
       "      <th>Costa Rica</th>\n",
       "      <td>5.668564</td>\n",
       "      <td>6.420972</td>\n",
       "      <td>6.536646</td>\n",
       "      <td>6.668331</td>\n",
       "      <td>7.162079</td>\n",
       "      <td>8.127507</td>\n",
       "    </tr>\n",
       "    <tr>\n",
       "      <th>Denmark</th>\n",
       "      <td>15.149950</td>\n",
       "      <td>13.633720</td>\n",
       "      <td>11.693580</td>\n",
       "      <td>10.960500</td>\n",
       "      <td>10.184290</td>\n",
       "      <td>10.061660</td>\n",
       "    </tr>\n",
       "    <tr>\n",
       "      <th>Greece</th>\n",
       "      <td>2.779026</td>\n",
       "      <td>2.751279</td>\n",
       "      <td>3.033250</td>\n",
       "      <td>2.911162</td>\n",
       "      <td>2.292947</td>\n",
       "      <td>2.521790</td>\n",
       "    </tr>\n",
       "    <tr>\n",
       "      <th>Kuwait</th>\n",
       "      <td>1.377272</td>\n",
       "      <td>1.521961</td>\n",
       "      <td>1.308118</td>\n",
       "      <td>1.235284</td>\n",
       "      <td>1.564255</td>\n",
       "      <td>1.508789</td>\n",
       "    </tr>\n",
       "    <tr>\n",
       "      <th>Mexico</th>\n",
       "      <td>3.438644</td>\n",
       "      <td>3.634392</td>\n",
       "      <td>3.716372</td>\n",
       "      <td>3.724148</td>\n",
       "      <td>3.987383</td>\n",
       "      <td>4.157453</td>\n",
       "    </tr>\n",
       "    <tr>\n",
       "      <th>Norway</th>\n",
       "      <td>11.385870</td>\n",
       "      <td>10.799500</td>\n",
       "      <td>11.609420</td>\n",
       "      <td>11.440050</td>\n",
       "      <td>9.992784</td>\n",
       "      <td>10.723570</td>\n",
       "    </tr>\n",
       "    <tr>\n",
       "      <th>Sweden</th>\n",
       "      <td>12.385200</td>\n",
       "      <td>11.831330</td>\n",
       "      <td>11.325280</td>\n",
       "      <td>10.501980</td>\n",
       "      <td>10.970880</td>\n",
       "      <td>10.686620</td>\n",
       "    </tr>\n",
       "    <tr>\n",
       "      <th>Uzbekistan</th>\n",
       "      <td>8.264799</td>\n",
       "      <td>9.523588</td>\n",
       "      <td>8.326845</td>\n",
       "      <td>9.197172</td>\n",
       "      <td>7.033736</td>\n",
       "      <td>5.342295</td>\n",
       "    </tr>\n",
       "  </tbody>\n",
       "</table>\n",
       "</div>"
      ],
      "text/plain": [
       "                 1994       1996       1998       2000       2002       2004\n",
       "pais                                                                        \n",
       "Argentina    6.766797   6.521007   6.571886   7.578039   8.399384   8.045732\n",
       "Australia   12.038130  12.449810  13.311070  11.693990  11.030150   9.656323\n",
       "Chile        6.051927   6.639486   7.180727   9.828766  10.264100  10.684380\n",
       "Costa Rica   5.668564   6.420972   6.536646   6.668331   7.162079   8.127507\n",
       "Denmark     15.149950  13.633720  11.693580  10.960500  10.184290  10.061660\n",
       "Greece       2.779026   2.751279   3.033250   2.911162   2.292947   2.521790\n",
       "Kuwait       1.377272   1.521961   1.308118   1.235284   1.564255   1.508789\n",
       "Mexico       3.438644   3.634392   3.716372   3.724148   3.987383   4.157453\n",
       "Norway      11.385870  10.799500  11.609420  11.440050   9.992784  10.723570\n",
       "Sweden      12.385200  11.831330  11.325280  10.501980  10.970880  10.686620\n",
       "Uzbekistan   8.264799   9.523588   8.326845   9.197172   7.033736   5.342295"
      ]
     },
     "execution_count": 13,
     "metadata": {},
     "output_type": "execute_result"
    }
   ],
   "source": [
    "pibt_limpg8 = pibtg8_1.dropna() #shape: 8, 6\n",
    "pibt_limpfora = pibt_fora_1.dropna() #shape: 11, 6\n",
    "sui_limpg8 = suig8_1.dropna()#shape: 8, 6\n",
    "sui_limpfora = sui_fora_1.dropna() # shape: 11, 6\n",
    "sui_limpfora\n"
   ]
  },
  {
   "cell_type": "markdown",
   "metadata": {},
   "source": [
    "## Comparando o Pib de um país e seu Indice de suícidios"
   ]
  },
  {
   "cell_type": "code",
   "execution_count": null,
   "metadata": {},
   "outputs": [],
   "source": []
  }
 ],
 "metadata": {
  "kernelspec": {
   "display_name": "Python 3",
   "language": "python",
   "name": "python3"
  },
  "language_info": {
   "codemirror_mode": {
    "name": "ipython",
    "version": 3
   },
   "file_extension": ".py",
   "mimetype": "text/x-python",
   "name": "python",
   "nbconvert_exporter": "python",
   "pygments_lexer": "ipython3",
   "version": "3.7.1"
  }
 },
 "nbformat": 4,
 "nbformat_minor": 2
}
