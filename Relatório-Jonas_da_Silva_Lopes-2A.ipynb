{
 "cells": [
  {
   "cell_type": "markdown",
   "metadata": {},
   "source": [
    "# Projeto_1_ciência_dos_dos_dados"
   ]
  },
  {
   "cell_type": "markdown",
   "metadata": {},
   "source": [
    "## Jonas da Silva Lopes - Turma 2A"
   ]
  },
  {
   "cell_type": "markdown",
   "metadata": {},
   "source": [
    "## Github"
   ]
  },
  {
   "cell_type": "markdown",
   "metadata": {},
   "source": [
    "User: JonasLopes19   \n",
    "Repositório: Trabalho_de_C_Dados  \n",
    "Arquivo: RASCUNHO4 - ciência dos dados - Jonas da Silva Lopes.ipynb"
   ]
  },
  {
   "cell_type": "markdown",
   "metadata": {},
   "source": [
    "## Pergunta a ser trabalhada:"
   ]
  },
  {
   "cell_type": "markdown",
   "metadata": {},
   "source": [
    "Os países integrantes do G7 tendem a possuir uma maior taxa de suicídio quando comparados a países que não são integrantes?"
   ]
  },
  {
   "cell_type": "markdown",
   "metadata": {},
   "source": [
    "## Mecanismo"
   ]
  },
  {
   "cell_type": "markdown",
   "metadata": {},
   "source": [
    "Os países que são mais desenvolvidos, como no caso dos países que formam o G7, podem tender a exigirem demandas altas de sucesso pessoal, seja: profissional, interpessoal, acadêmico, financeiro, entre outros. Essa coerção em uma nação tem o potencial de criar uma grande pressão psicológica nas pessoas, o que as faz pensar que seu único objetivo de vida seja alcançar o sucesso nessas áreas da vida, ou que para se ter uma boa vida é necessário atingir esses \"critérios\", assim por muitas vezes pessoas que \"falham\" com suas metas, ou pensam que essas são inalcançáveis tiram suas próprias vidas, tendo em vista que seus únicos objetivos na vida não podem ser alcançados. Logo, pode-se afirmar que o desenvolvimento econõmico dos países que estão no G7 aumenta a incidência de suicídios neles devido a uma grande pressão social promovida pela sociedade."
   ]
  },
  {
   "cell_type": "markdown",
   "metadata": {},
   "source": [
    "## Introdução"
   ]
  },
  {
   "cell_type": "markdown",
   "metadata": {},
   "source": []
  },
  {
   "cell_type": "markdown",
   "metadata": {},
   "source": [
    "## Imports"
   ]
  },
  {
   "cell_type": "markdown",
   "metadata": {},
   "source": [
    "Para iniciar a limpa de dados e sua análise é necessário importar algumas bibliotecas"
   ]
  },
  {
   "cell_type": "code",
   "execution_count": 1,
   "metadata": {},
   "outputs": [],
   "source": [
    "%matplotlib inline\n",
    "import numpy as np\n",
    "import matplotlib.pyplot as plt\n",
    "import matplotlib\n",
    "matplotlib.style.use('ggplot')\n",
    "import os\n",
    "import pandas as pd"
   ]
  },
  {
   "cell_type": "markdown",
   "metadata": {},
   "source": [
    "## Importando a base de dados"
   ]
  },
  {
   "cell_type": "code",
   "execution_count": 2,
   "metadata": {},
   "outputs": [],
   "source": [
    "suicidio_porcemm = pd.read_excel(r'C:\\Users\\User\\Documents\\Facul\\Primeiro ano\\Segundo semestre\\Ciência dos dados\\Projeto 1\\Trabalho_de_C_dados\\Taxas_de_sucidio\\suicidio(por100000).xlsx')\n",
    "pib_capita = pd.read_excel(r'C:\\Users\\User\\Documents\\Facul\\Primeiro ano\\Segundo semestre\\Ciência dos dados\\Projeto 1\\Trabalho_de_C_dados\\Pibs\\pib_capita.xlsx')"
   ]
  },
  {
   "cell_type": "markdown",
   "metadata": {},
   "source": [
    "## Montagem dos dataframes"
   ]
  },
  {
   "cell_type": "markdown",
   "metadata": {},
   "source": [
    "Para análise é ncessário a criação de 6 dataframes, sendo eles: dados de suicídio com todos os países, dados de pib per capita de todos os países escolhidos e as tabelas com dados de suicídio e PIB per capita dos países do G7 e dos que não estão no G7, separando-os. Vale ressaltar também que a escolha desses países também foi baseada na disponibilidade de dados."
   ]
  },
  {
   "cell_type": "code",
   "execution_count": 4,
   "metadata": {},
   "outputs": [],
   "source": [
    "pibt = pib_capita[(pib_capita.pais=='Canada') | \n",
    "                                    (pib_capita.pais=='France') | \n",
    "                                    (pib_capita.pais=='Germany') | \n",
    "                                    (pib_capita.pais=='Italy') | \n",
    "                                    (pib_capita.pais=='Japan') |\n",
    "                                    (pib_capita.pais=='United Kingdom') | \n",
    "                                    (pib_capita.pais=='United States') | \n",
    "                                    (pib_capita.pais=='Norway') | \n",
    "                                    (pib_capita.pais=='Australia') | \n",
    "                                    (pib_capita.pais=='Denmark') | \n",
    "                                    (pib_capita.pais=='Sweden') | \n",
    "                                    (pib_capita.pais=='Chile') | \n",
    "                                    (pib_capita.pais=='Argentina') | \n",
    "                                    (pib_capita.pais=='Greece') | \n",
    "                                    (pib_capita.pais=='Mexico') |\n",
    "                                    (pib_capita.pais=='Uzbekistan') |\n",
    "                                    (pib_capita.pais=='Kuwait') |\n",
    "                                    (pib_capita.pais=='Costa Rica')]\n",
    "\n",
    "\n",
    "suicidio_cem = suicidio_porcemm[(suicidio_porcemm.pais=='Canada') | \n",
    "                                    (suicidio_porcemm.pais=='France') | \n",
    "                                    (suicidio_porcemm.pais=='Germany') | \n",
    "                                    (suicidio_porcemm.pais=='Italy') | \n",
    "                                    (suicidio_porcemm.pais=='Japan') |\n",
    "                                    (suicidio_porcemm.pais=='United Kingdom') | \n",
    "                                    (suicidio_porcemm.pais=='United States') | \n",
    "                                    (suicidio_porcemm.pais=='Norway') | \n",
    "                                    (suicidio_porcemm.pais=='Australia') | \n",
    "                                    (suicidio_porcemm.pais=='Denmark') | \n",
    "                                    (suicidio_porcemm.pais=='Sweden') | \n",
    "                                    (suicidio_porcemm.pais=='Chile') | \n",
    "                                    (suicidio_porcemm.pais=='Argentina') | \n",
    "                                    (suicidio_porcemm.pais=='Greece') | \n",
    "                                    (suicidio_porcemm.pais=='Mexico') |\n",
    "                                    (suicidio_porcemm.pais=='Uzbekistan') |\n",
    "                                    (suicidio_porcemm.pais=='Kuwait') |\n",
    "                                    (suicidio_porcemm.pais=='Costa Rica')]\n",
    "\n",
    "\n",
    "\n",
    "\n",
    "\n",
    "\n",
    "pais_pibt_g7 = pib_capita[(pib_capita.pais=='Canada') | \n",
    "                                    (pib_capita.pais=='France') | \n",
    "                                    (pib_capita.pais=='Germany') | \n",
    "                                    (pib_capita.pais=='Italy') | \n",
    "                                    (pib_capita.pais=='Japan') |  \n",
    "                                    (pib_capita.pais=='United Kingdom') | \n",
    "                                    (pib_capita.pais=='United States')]\n",
    "\n",
    "\n",
    "pais_pibt_fora = pib_capita[(pib_capita.pais=='Norway') | \n",
    "                                    (pib_capita.pais=='Australia') | \n",
    "                                    (pib_capita.pais=='Denmark') | \n",
    "                                    (pib_capita.pais=='Sweden') | \n",
    "                                    (pib_capita.pais=='Chile') | \n",
    "                                    (pib_capita.pais=='Argentina') | \n",
    "                                    (pib_capita.pais=='Greece') | \n",
    "                                    (pib_capita.pais=='Mexico') |\n",
    "                                   (pib_capita.pais=='Uzbekistan') |\n",
    "                                   (pib_capita.pais=='Kuwait') |\n",
    "                                   (pib_capita.pais=='Costa Rica')]\n",
    "\n",
    "\n",
    "suicidio_g7 = suicidio_porcemm[(suicidio_porcemm.pais=='Canada') | \n",
    "                                    (suicidio_porcemm.pais=='France') | \n",
    "                                    (suicidio_porcemm.pais=='Germany') | \n",
    "                                    (suicidio_porcemm.pais=='Italy') | \n",
    "                                    (suicidio_porcemm.pais=='Japan') | \n",
    "                                    (suicidio_porcemm.pais=='United Kingdom') | \n",
    "                                    (suicidio_porcemm.pais=='United States')]\n",
    "\n",
    "\n",
    "suicidio_fora = suicidio_porcemm[(suicidio_porcemm.pais=='Norway') | \n",
    "                                    (suicidio_porcemm.pais=='Australia') | \n",
    "                                    (suicidio_porcemm.pais=='Denmark') | \n",
    "                                    (suicidio_porcemm.pais=='Sweden') | \n",
    "                                    (suicidio_porcemm.pais=='Chile') | \n",
    "                                    (suicidio_porcemm.pais=='Argentina') | \n",
    "                                    (suicidio_porcemm.pais=='Greece') | \n",
    "                                    (suicidio_porcemm.pais=='Mexico') |\n",
    "                                   (suicidio_porcemm.pais=='Uzbekistan') |\n",
    "                                   (suicidio_porcemm.pais=='Kuwait') |\n",
    "                                   (suicidio_porcemm.pais=='Costa Rica')]"
   ]
  },
  {
   "cell_type": "markdown",
   "metadata": {},
   "source": [
    "## Setar o nome dos países como índice dos dataframes"
   ]
  },
  {
   "cell_type": "markdown",
   "metadata": {},
   "source": [
    "Os índices numéricos padrão não iriam ser usados, assim a melhor escolha é determinar o nome dos países como índices, o que também facilita o entendimento da tabela."
   ]
  },
  {
   "cell_type": "code",
   "execution_count": 6,
   "metadata": {},
   "outputs": [],
   "source": [
    "pib = pibt.set_index(\"pais\")\n",
    "suicidio = suicidio_cem.set_index('pais')\n",
    "suig7 = suicidio_g7.set_index(\"pais\")\n",
    "sui_fora = suicidio_fora.set_index(\"pais\")\n",
    "pibtg7 = pais_pibt_g7.set_index('pais')\n",
    "pibt_fora = pais_pibt_fora.set_index('pais')"
   ]
  },
  {
   "cell_type": "markdown",
   "metadata": {},
   "source": [
    "## Seleção das colunas que serão analisadas"
   ]
  },
  {
   "cell_type": "markdown",
   "metadata": {},
   "source": [
    "As colunas foram escolhidas de acordo com a disponiblidade de dados dos países e também foram utilizados dados mais atuais possíveis."
   ]
  },
  {
   "cell_type": "code",
   "execution_count": 30,
   "metadata": {},
   "outputs": [],
   "source": [
    "colunas = [0]*4\n",
    "k=1998\n",
    "i=0\n",
    "for ano in colunas:\n",
    "    colunas[i]=k\n",
    "    k+=2\n",
    "    i+=1\n",
    "\n",
    "\n",
    "pib1 = pib.loc[:,colunas]    \n",
    "suicidio1 = suicidio.loc[:,colunas]\n",
    "pibtg7_1 = pibtg7.loc[:, colunas]\n",
    "suig7_1 = suig7.loc[:, colunas]\n",
    "pibt_fora_1 = pibt_fora.loc[:,colunas]\n",
    "sui_fora_1 = sui_fora.loc[:,colunas]"
   ]
  },
  {
   "cell_type": "markdown",
   "metadata": {},
   "source": [
    "## Renomeação de colunas"
   ]
  },
  {
   "cell_type": "markdown",
   "metadata": {},
   "source": [
    "Após todas essas etapas, a renomeação das colunas facilitaria a manipulação dos dados"
   ]
  },
  {
   "cell_type": "code",
   "execution_count": 31,
   "metadata": {},
   "outputs": [],
   "source": [
    "pib1 = pib1.rename(columns={1990: 'ano1990', 1992: 'ano1992', 1994: 'ano1994', 1996: 'ano1996', 1998:'ano1998', 2000:'ano2000', 2002:'ano2002', 2004:'ano2004'})\n",
    "suicidio1 = suicidio1.rename(columns={1990: 'ano1990', 1992: 'ano1992', 1994: 'ano1994', 1996: 'ano1996', 1998:'ano1998', 2000:'ano2000', 2002:'ano2002', 2004:'ano2004'})\n",
    "suig7_1 = suig7_1.rename(columns={1990: 'ano1990', 1992: 'ano1992', 1994: 'ano1994', 1996: 'ano1996', 1998:'ano1998', 2000:'ano2000', 2002:'ano2002', 2004:'ano2004'})\n",
    "sui_fora_1 = sui_fora_1.rename(columns={1990: 'ano1990', 1992: 'ano1992', 1994: 'ano1994', 1996: 'ano1996', 1998:'ano1998', 2000:'ano2000', 2002:'ano2002', 2004:'ano2004'})\n",
    "pibt_g7_1 = pibtg7_1.rename(columns={1990: 'ano1990', 1992: 'ano1992', 1994: 'ano1994', 1996: 'ano1996', 1998:'ano1998', 2000:'ano2000', 2002:'ano2002', 2004:'ano2004'})\n",
    "pibt_fora_1 = pibt_fora_1.rename(columns={1990: 'ano1990', 1992: 'ano1992', 1994: 'ano1994', 1996: 'ano1996', 1998:'ano1998', 2000:'ano2000', 2002:'ano2002', 2004:'ano2004'})\n"
   ]
  },
  {
   "cell_type": "markdown",
   "metadata": {},
   "source": [
    "## Limpa de dados não existentes"
   ]
  },
  {
   "cell_type": "markdown",
   "metadata": {},
   "source": [
    "Nessa etapa as últimas linhas sem dados são retiradas"
   ]
  },
  {
   "cell_type": "code",
   "execution_count": 33,
   "metadata": {},
   "outputs": [],
   "source": [
    "suicidio2 = suicidio1.dropna()\n",
    "pib2 = pib1.dropna()\n",
    "\n",
    "\n",
    "pibt_limpg7 = pibt_g7_1.dropna()\n",
    "pibt_limpfora = pibt_fora_1.dropna()\n",
    "\n",
    "\n",
    "sui_limpg7 = suig7_1.dropna()\n",
    "sui_limpfora = sui_fora_1.dropna()"
   ]
  },
  {
   "cell_type": "markdown",
   "metadata": {},
   "source": [
    "## Join"
   ]
  },
  {
   "cell_type": "markdown",
   "metadata": {},
   "source": [
    "Junção dos dados já selecionados"
   ]
  },
  {
   "cell_type": "code",
   "execution_count": 35,
   "metadata": {},
   "outputs": [],
   "source": [
    "dados_gerais = suicidio2.join(pib2, how='outer', lsuffix='Suicídios', rsuffix='PIB')\n",
    "dados_gerais_g7 = sui_limpg7.join(pibt_limpg7, how='outer', lsuffix='Suicídios', rsuffix='PIB')\n",
    "dados_gerais_forag7 = sui_limpfora.join(pibt_limpfora, how='outer', lsuffix='Suicídios', rsuffix='PIB')"
   ]
  },
  {
   "cell_type": "markdown",
   "metadata": {},
   "source": [
    "## Comparando o Pib de um país e seu Indice de suícidios"
   ]
  },
  {
   "cell_type": "markdown",
   "metadata": {},
   "source": [
    "### Análise dos gráficos de dispersão com reta de ajuste e coeficiente de correlação"
   ]
  },
  {
   "cell_type": "markdown",
   "metadata": {},
   "source": [
    "#### Função para plotagem dos gráficos"
   ]
  },
  {
   "cell_type": "code",
   "execution_count": 36,
   "metadata": {},
   "outputs": [],
   "source": [
    "def reta(dados_x, dados_y, c):    \n",
    "    a = dados_y.cov(dados_x) / dados_x.var()\n",
    "    b = dados_y.mean() - a*dados_x.mean()\n",
    "\n",
    "    print('Ajuste linear entre X3 e X4:')\n",
    "    print('Coeficiente linear:', b)\n",
    "    print('Coeficiente angular:', a)\n",
    "    plt.scatter(dados_x, dados_y, c=c, alpha=0.9)\n",
    "    plt.title('x versus y')\n",
    "    plt.xlabel('eixo x')\n",
    "    plt.ylabel('eixo y')\n",
    "\n",
    "    plt.plot((dados_x.min(), dados_x.max()), (a*dados_x.min()+b, a*dados_x.max()+b), color=c)\n",
    "\n",
    "    plt.tight_layout()\n"
   ]
  },
  {
   "cell_type": "markdown",
   "metadata": {},
   "source": [
    "#### Análise do ano 1998"
   ]
  },
  {
   "cell_type": "code",
   "execution_count": 37,
   "metadata": {},
   "outputs": [
    {
     "name": "stdout",
     "output_type": "stream",
     "text": [
      "Ajuste linear entre X3 e X4:\n",
      "Coeficiente linear: 5.674296239148342\n",
      "Coeficiente angular: 0.00010902877966529706\n",
      "O coeeficiente de correlação é: 0.4723\n"
     ]
    },
    {
     "data": {
      "image/png": "[encoded data removed]",
      "text/plain": [
       "<Figure size 432x288 with 1 Axes>"
      ]
     },
     "metadata": {
      "needs_background": "light"
     },
     "output_type": "display_data"
    }
   ],
   "source": [
    "reta( dados_gerais.loc[:,'ano1998PIB'],dados_gerais.loc[:,'ano1998Suicídios'], \"r\")\n",
    "plt.title('X versus Y: 1998')\n",
    "plt.xlabel('PIB per capita')\n",
    "plt.ylabel('Suicídio por cem mil pessoas')\n",
    "coeficiente_de_correlação = dados_gerais.loc[:,'ano1998PIB'].corr(dados_gerais.loc[:,'ano1998Suicídios'])\n",
    "print(('O coeeficiente de correlação é: {0:.4f}').format(coeficiente_de_correlação))"
   ]
  },
  {
   "cell_type": "markdown",
   "metadata": {},
   "source": [
    "#### Análise do ano 2000"
   ]
  },
  {
   "cell_type": "code",
   "execution_count": 38,
   "metadata": {},
   "outputs": [
    {
     "name": "stdout",
     "output_type": "stream",
     "text": [
      "Ajuste linear entre X3 e X4:\n",
      "Coeficiente linear: 6.296055427434944\n",
      "Coeficiente angular: 8.089003931915514e-05\n",
      "O coeeficiente de correlação é: 0.3957633196451521\n"
     ]
    },
    {
     "data": {
      "image/png": "[encoded data removed]",
      "text/plain": [
       "<Figure size 432x288 with 1 Axes>"
      ]
     },
     "metadata": {
      "needs_background": "light"
     },
     "output_type": "display_data"
    }
   ],
   "source": [
    "reta( dados_gerais.loc[:,'ano2000PIB'], dados_gerais.loc[:,'ano2000Suicídios'], \"black\")\n",
    "plt.title('X versus Y: 2000')\n",
    "plt.xlabel('PIB per capita')\n",
    "plt.ylabel('Suicídio por cem mil pessoas')\n",
    "coeficiente_de_correlação = dados_gerais.loc[:,'ano2000PIB'].corr(dados_gerais.loc[:,'ano2000Suicídios'])\n",
    "print(('O coeeficiente de correlação é: {0}').format(coeficiente_de_correlação))"
   ]
  },
  {
   "cell_type": "markdown",
   "metadata": {},
   "source": [
    "##### Análise do ano 2002"
   ]
  },
  {
   "cell_type": "code",
   "execution_count": 39,
   "metadata": {},
   "outputs": [
    {
     "name": "stdout",
     "output_type": "stream",
     "text": [
      "Ajuste linear entre X3 e X4:\n",
      "Coeficiente linear: 6.450826232468602\n",
      "Coeficiente angular: 6.867518812388572e-05\n",
      "O coeeficiente de correlação é: 0.35491099412402716\n"
     ]
    },
    {
     "data": {
      "image/png": "[encoded data removed]",
      "text/plain": [
       "<Figure size 432x288 with 1 Axes>"
      ]
     },
     "metadata": {
      "needs_background": "light"
     },
     "output_type": "display_data"
    }
   ],
   "source": [
    "reta( dados_gerais.loc[:,'ano2002PIB'], dados_gerais.loc[:,'ano2002Suicídios'], \"b\")\n",
    "plt.title('X versus Y: 2002')\n",
    "plt.xlabel('PIB per capita')\n",
    "plt.ylabel('Suicídio por cem mil pessoas')\n",
    "coeficiente_de_correlação = dados_gerais.loc[:,'ano2002PIB'].corr(dados_gerais.loc[:,'ano2002Suicídios'])\n",
    "print(('O coeeficiente de correlação é: {0}').format(coeficiente_de_correlação))"
   ]
  },
  {
   "cell_type": "markdown",
   "metadata": {},
   "source": [
    "##### Análise do ano 2004"
   ]
  },
  {
   "cell_type": "code",
   "execution_count": 40,
   "metadata": {},
   "outputs": [
    {
     "name": "stdout",
     "output_type": "stream",
     "text": [
      "Ajuste linear entre X3 e X4:\n",
      "Coeficiente linear: 6.443775206048363\n",
      "Coeficiente angular: 6.240255241655776e-05\n",
      "O coeeficiente de correlação é: 0.3291791264917513\n"
     ]
    },
    {
     "data": {
      "image/png": "[encoded data removed]",
      "text/plain": [
       "<Figure size 432x288 with 1 Axes>"
      ]
     },
     "metadata": {
      "needs_background": "light"
     },
     "output_type": "display_data"
    }
   ],
   "source": [
    "reta( dados_gerais.loc[:,'ano2004PIB'], dados_gerais.loc[:,'ano2004Suicídios'], \"purple\")\n",
    "plt.title('X versus Y: 2004')\n",
    "plt.xlabel('PIB per capita')\n",
    "plt.ylabel('Suicídio por cem mil pessoas')\n",
    "coeficiente_de_correlação = dados_gerais.loc[:,'ano2004PIB'].corr(dados_gerais.loc[:,'ano2004Suicídios'])\n",
    "print(('O coeeficiente de correlação é: {0}').format(coeficiente_de_correlação))"
   ]
  },
  {
   "cell_type": "code",
   "execution_count": null,
   "metadata": {},
   "outputs": [],
   "source": []
  },
  {
   "cell_type": "code",
   "execution_count": null,
   "metadata": {},
   "outputs": [],
   "source": []
  }
 ],
 "metadata": {
  "kernelspec": {
   "display_name": "Python 3",
   "language": "python",
   "name": "python3"
  },
  "language_info": {
   "codemirror_mode": {
    "name": "ipython",
    "version": 3
   },
   "file_extension": ".py",
   "mimetype": "text/x-python",
   "name": "python",
   "nbconvert_exporter": "python",
   "pygments_lexer": "ipython3",
   "version": "3.7.1"
  }
 },
 "nbformat": 4,
 "nbformat_minor": 2
}
