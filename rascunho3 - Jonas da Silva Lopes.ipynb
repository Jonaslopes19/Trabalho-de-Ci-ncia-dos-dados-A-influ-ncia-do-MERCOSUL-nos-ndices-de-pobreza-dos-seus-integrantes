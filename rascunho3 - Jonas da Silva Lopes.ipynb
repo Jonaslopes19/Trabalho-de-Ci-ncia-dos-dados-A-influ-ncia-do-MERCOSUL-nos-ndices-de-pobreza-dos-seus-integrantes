{
 "cells": [
  {
   "cell_type": "markdown",
   "metadata": {},
   "source": [
    "# Projeto_de_ciência_dos_dados-Organizações_Internacionais"
   ]
  },
  {
   "cell_type": "markdown",
   "metadata": {},
   "source": [
    "## Jonas da Silva Lopes"
   ]
  },
  {
   "cell_type": "markdown",
   "metadata": {},
   "source": [
    "## O tema principal do projeto:"
   ]
  },
  {
   "cell_type": "markdown",
   "metadata": {},
   "source": [
    "Os países da União Europeia tendem a possuir mais incideência de suicídios aos países europeuss que não participam?"
   ]
  },
  {
   "cell_type": "markdown",
   "metadata": {},
   "source": [
    "## Imports"
   ]
  },
  {
   "cell_type": "code",
   "execution_count": 3,
   "metadata": {},
   "outputs": [],
   "source": [
    "%matplotlib inline\n",
    "import numpy as np\n",
    "import matplotlib.pyplot as plt\n",
    "import matplotlib\n",
    "matplotlib.style.use('ggplot')\n",
    "import os\n",
    "import pandas as pd"
   ]
  },
  {
   "cell_type": "markdown",
   "metadata": {},
   "source": [
    "## Importando os dados que serão utilizados"
   ]
  },
  {
   "cell_type": "code",
   "execution_count": 4,
   "metadata": {},
   "outputs": [],
   "source": [
    "suicidio_total = pd.read_excel(r\"C:\\Users\\User\\Documents\\Facul\\Primeiro ano\\Segundo semestre\\Ciência dos dados\\Projeto 1\\Trabalho_de_C_dados\\Taxas_de_sucidio\\total_suicidios.xlsx\")\n",
    "suicidio_porcemm = pd.read_excel(r'C:\\Users\\User\\Documents\\Facul\\Primeiro ano\\Segundo semestre\\Ciência dos dados\\Projeto 1\\Trabalho_de_C_dados\\Taxas_de_sucidio\\suicidio(por100000).xlsx')"
   ]
  },
  {
   "cell_type": "markdown",
   "metadata": {},
   "source": [
    "## Separar os países que pertencem a União Europeia"
   ]
  },
  {
   "cell_type": "markdown",
   "metadata": {},
   "source": [
    "Neste projeto será utilizado os países mais influentes dessa organização"
   ]
  },
  {
   "cell_type": "code",
   "execution_count": 5,
   "metadata": {},
   "outputs": [],
   "source": [
    "pais_uniao_total = suicidio_total[(suicidio_total.pais=='United Kingdom') | (suicidio_total.pais=='France') | (suicidio_total.pais=='Germany') | (suicidio_total.pais=='Italy') | (suicidio_total.pais=='Portugal') | (suicidio_total.pais=='Spain') | (suicidio_total.pais=='Sweden') | (suicidio_total.pais=='Denmark')]\n",
    "pais_uniao_porcemm = suicidio_porcemm[(suicidio_porcemm.pais=='United Kingdom') | (suicidio_porcemm.pais=='France') | (suicidio_porcemm.pais=='Germany') | (suicidio_porcemm.pais=='Italy') | (suicidio_porcemm.pais=='Portugal') | (suicidio_porcemm.pais=='Spain') | (suicidio_porcemm.pais=='Sweden') | (suicidio_porcemm.pais=='Denmark')]"
   ]
  },
  {
   "cell_type": "markdown",
   "metadata": {},
   "source": [
    "## Separar os países que não fazem parte da União Europeia."
   ]
  },
  {
   "cell_type": "code",
   "execution_count": 6,
   "metadata": {},
   "outputs": [],
   "source": [
    "pais_out_total = suicidio_total[(suicidio_total.pais=='Russia') | (suicidio_total.pais=='Monaco') | (suicidio_total.pais=='Switzerland') | (suicidio_total.pais=='Ukraine') | (suicidio_total.pais=='Armenia') | (suicidio_total.pais=='Belarus') | (suicidio_total.pais=='Serbia') | (suicidio_total.pais=='Norway')]\n",
    "pais_out_porcemm = suicidio_porcemm[(suicidio_porcemm.pais=='Russia') | (suicidio_porcemm.pais=='Monaco') | (suicidio_porcemm.pais=='Switzerland') | (suicidio_porcemm.pais=='Ukraine') | (suicidio_porcemm.pais=='Armenia') | (suicidio_porcemm.pais=='Belarus') | (suicidio_porcemm.pais=='Serbia') | (suicidio_porcemm.pais=='Norway')]"
   ]
  },
  {
   "cell_type": "markdown",
   "metadata": {},
   "source": [
    "## Setar o índice como sendo o nome dos países"
   ]
  },
  {
   "cell_type": "markdown",
   "metadata": {},
   "source": [
    "Esse processo exclui informações não necessárias, além de facilitar a visualização dos dados"
   ]
  },
  {
   "cell_type": "code",
   "execution_count": 7,
   "metadata": {},
   "outputs": [],
   "source": [
    "uniao_total_set = pais_uniao_total.set_index('pais')\n",
    "uniao_porcemm_set = pais_uniao_porcemm.set_index('pais')\n",
    "out_total_set = pais_out_total.set_index('pais')\n",
    "out_porcemm_set = pais_out_porcemm.set_index('pais')"
   ]
  },
  {
   "cell_type": "code",
   "execution_count": null,
   "metadata": {},
   "outputs": [],
   "source": []
  }
 ],
 "metadata": {
  "kernelspec": {
   "display_name": "Python 3",
   "language": "python",
   "name": "python3"
  },
  "language_info": {
   "codemirror_mode": {
    "name": "ipython",
    "version": 3
   },
   "file_extension": ".py",
   "mimetype": "text/x-python",
   "name": "python",
   "nbconvert_exporter": "python",
   "pygments_lexer": "ipython3",
   "version": "3.7.1"
  }
 },
 "nbformat": 4,
 "nbformat_minor": 2
}
